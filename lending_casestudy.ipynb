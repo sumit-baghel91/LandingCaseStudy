{
 "cells": [
  {
   "cell_type": "markdown",
   "id": "ca7c5c8b-a234-4c7e-9aa3-9e72831a47df",
   "metadata": {},
   "source": [
    "<h1><center>Lending Club EDA</center></h1>"
   ]
  },
  {
   "cell_type": "markdown",
   "id": "5bc41ca8-ed40-44cd-bf92-a0f5d961df22",
   "metadata": {},
   "source": [
    "<h2><center>Introduction</center></h2>\n",
    "\n",
    "\n",
    "Lending Club is the world's largest peer-to-peer lending platform. They offer lending services by connecting borrowers with investors through an online marketplace. While this has become a popular source of passive income for investors, there is also a risk of default, in which the borrowers fall behind on their repayments. In this kernel, we will perform some explorations and feature analysis on the loan data provided by Lending Club to identify the potential risk factors associated with a loan default."
   ]
  },
  {
   "cell_type": "markdown",
   "id": "9bcaa849-fe6f-4f57-b724-403707903b79",
   "metadata": {},
   "source": [
    "<h2><center>Getting Started</center></h2>\n",
    "\n",
    "Lets import all the required libraries and take a look at the data"
   ]
  },
  {
   "cell_type": "code",
   "execution_count": 1,
   "id": "5359c3f6-8a77-4bc0-bd5e-f07c81627dcc",
   "metadata": {},
   "outputs": [],
   "source": [
    "# Importing all libraries required.\n",
    "import numpy as np\n",
    "import pandas as pd\n",
    "import matplotlib.pyplot as plt\n",
    "import seaborn as sns\n",
    "\n",
    "# Ignore warnings due to version problems\n",
    "import warnings\n",
    "warnings.filterwarnings('ignore')"
   ]
  },
  {
   "cell_type": "code",
   "execution_count": 2,
   "id": "a0ea3a93-ad64-41fe-8bdf-4b9fe9568d9e",
   "metadata": {},
   "outputs": [
    {
     "data": {
      "text/html": [
       "<div>\n",
       "<style scoped>\n",
       "    .dataframe tbody tr th:only-of-type {\n",
       "        vertical-align: middle;\n",
       "    }\n",
       "\n",
       "    .dataframe tbody tr th {\n",
       "        vertical-align: top;\n",
       "    }\n",
       "\n",
       "    .dataframe thead th {\n",
       "        text-align: right;\n",
       "    }\n",
       "</style>\n",
       "<table border=\"1\" class=\"dataframe\">\n",
       "  <thead>\n",
       "    <tr style=\"text-align: right;\">\n",
       "      <th></th>\n",
       "      <th>id</th>\n",
       "      <th>member_id</th>\n",
       "      <th>loan_amnt</th>\n",
       "      <th>funded_amnt</th>\n",
       "      <th>funded_amnt_inv</th>\n",
       "      <th>term</th>\n",
       "      <th>int_rate</th>\n",
       "      <th>installment</th>\n",
       "      <th>grade</th>\n",
       "      <th>sub_grade</th>\n",
       "      <th>...</th>\n",
       "      <th>num_tl_90g_dpd_24m</th>\n",
       "      <th>num_tl_op_past_12m</th>\n",
       "      <th>pct_tl_nvr_dlq</th>\n",
       "      <th>percent_bc_gt_75</th>\n",
       "      <th>pub_rec_bankruptcies</th>\n",
       "      <th>tax_liens</th>\n",
       "      <th>tot_hi_cred_lim</th>\n",
       "      <th>total_bal_ex_mort</th>\n",
       "      <th>total_bc_limit</th>\n",
       "      <th>total_il_high_credit_limit</th>\n",
       "    </tr>\n",
       "  </thead>\n",
       "  <tbody>\n",
       "    <tr>\n",
       "      <th>0</th>\n",
       "      <td>1077501</td>\n",
       "      <td>1296599</td>\n",
       "      <td>5000</td>\n",
       "      <td>5000</td>\n",
       "      <td>4975.0</td>\n",
       "      <td>36 months</td>\n",
       "      <td>10.65%</td>\n",
       "      <td>162.87</td>\n",
       "      <td>B</td>\n",
       "      <td>B2</td>\n",
       "      <td>...</td>\n",
       "      <td>NaN</td>\n",
       "      <td>NaN</td>\n",
       "      <td>NaN</td>\n",
       "      <td>NaN</td>\n",
       "      <td>0.0</td>\n",
       "      <td>0.0</td>\n",
       "      <td>NaN</td>\n",
       "      <td>NaN</td>\n",
       "      <td>NaN</td>\n",
       "      <td>NaN</td>\n",
       "    </tr>\n",
       "    <tr>\n",
       "      <th>1</th>\n",
       "      <td>1077430</td>\n",
       "      <td>1314167</td>\n",
       "      <td>2500</td>\n",
       "      <td>2500</td>\n",
       "      <td>2500.0</td>\n",
       "      <td>60 months</td>\n",
       "      <td>15.27%</td>\n",
       "      <td>59.83</td>\n",
       "      <td>C</td>\n",
       "      <td>C4</td>\n",
       "      <td>...</td>\n",
       "      <td>NaN</td>\n",
       "      <td>NaN</td>\n",
       "      <td>NaN</td>\n",
       "      <td>NaN</td>\n",
       "      <td>0.0</td>\n",
       "      <td>0.0</td>\n",
       "      <td>NaN</td>\n",
       "      <td>NaN</td>\n",
       "      <td>NaN</td>\n",
       "      <td>NaN</td>\n",
       "    </tr>\n",
       "    <tr>\n",
       "      <th>2</th>\n",
       "      <td>1077175</td>\n",
       "      <td>1313524</td>\n",
       "      <td>2400</td>\n",
       "      <td>2400</td>\n",
       "      <td>2400.0</td>\n",
       "      <td>36 months</td>\n",
       "      <td>15.96%</td>\n",
       "      <td>84.33</td>\n",
       "      <td>C</td>\n",
       "      <td>C5</td>\n",
       "      <td>...</td>\n",
       "      <td>NaN</td>\n",
       "      <td>NaN</td>\n",
       "      <td>NaN</td>\n",
       "      <td>NaN</td>\n",
       "      <td>0.0</td>\n",
       "      <td>0.0</td>\n",
       "      <td>NaN</td>\n",
       "      <td>NaN</td>\n",
       "      <td>NaN</td>\n",
       "      <td>NaN</td>\n",
       "    </tr>\n",
       "    <tr>\n",
       "      <th>3</th>\n",
       "      <td>1076863</td>\n",
       "      <td>1277178</td>\n",
       "      <td>10000</td>\n",
       "      <td>10000</td>\n",
       "      <td>10000.0</td>\n",
       "      <td>36 months</td>\n",
       "      <td>13.49%</td>\n",
       "      <td>339.31</td>\n",
       "      <td>C</td>\n",
       "      <td>C1</td>\n",
       "      <td>...</td>\n",
       "      <td>NaN</td>\n",
       "      <td>NaN</td>\n",
       "      <td>NaN</td>\n",
       "      <td>NaN</td>\n",
       "      <td>0.0</td>\n",
       "      <td>0.0</td>\n",
       "      <td>NaN</td>\n",
       "      <td>NaN</td>\n",
       "      <td>NaN</td>\n",
       "      <td>NaN</td>\n",
       "    </tr>\n",
       "    <tr>\n",
       "      <th>4</th>\n",
       "      <td>1075358</td>\n",
       "      <td>1311748</td>\n",
       "      <td>3000</td>\n",
       "      <td>3000</td>\n",
       "      <td>3000.0</td>\n",
       "      <td>60 months</td>\n",
       "      <td>12.69%</td>\n",
       "      <td>67.79</td>\n",
       "      <td>B</td>\n",
       "      <td>B5</td>\n",
       "      <td>...</td>\n",
       "      <td>NaN</td>\n",
       "      <td>NaN</td>\n",
       "      <td>NaN</td>\n",
       "      <td>NaN</td>\n",
       "      <td>0.0</td>\n",
       "      <td>0.0</td>\n",
       "      <td>NaN</td>\n",
       "      <td>NaN</td>\n",
       "      <td>NaN</td>\n",
       "      <td>NaN</td>\n",
       "    </tr>\n",
       "  </tbody>\n",
       "</table>\n",
       "<p>5 rows × 111 columns</p>\n",
       "</div>"
      ],
      "text/plain": [
       "        id  member_id  loan_amnt  funded_amnt  funded_amnt_inv        term  \\\n",
       "0  1077501    1296599       5000         5000           4975.0   36 months   \n",
       "1  1077430    1314167       2500         2500           2500.0   60 months   \n",
       "2  1077175    1313524       2400         2400           2400.0   36 months   \n",
       "3  1076863    1277178      10000        10000          10000.0   36 months   \n",
       "4  1075358    1311748       3000         3000           3000.0   60 months   \n",
       "\n",
       "  int_rate  installment grade sub_grade  ... num_tl_90g_dpd_24m  \\\n",
       "0   10.65%       162.87     B        B2  ...                NaN   \n",
       "1   15.27%        59.83     C        C4  ...                NaN   \n",
       "2   15.96%        84.33     C        C5  ...                NaN   \n",
       "3   13.49%       339.31     C        C1  ...                NaN   \n",
       "4   12.69%        67.79     B        B5  ...                NaN   \n",
       "\n",
       "  num_tl_op_past_12m pct_tl_nvr_dlq  percent_bc_gt_75 pub_rec_bankruptcies  \\\n",
       "0                NaN            NaN               NaN                  0.0   \n",
       "1                NaN            NaN               NaN                  0.0   \n",
       "2                NaN            NaN               NaN                  0.0   \n",
       "3                NaN            NaN               NaN                  0.0   \n",
       "4                NaN            NaN               NaN                  0.0   \n",
       "\n",
       "  tax_liens tot_hi_cred_lim total_bal_ex_mort total_bc_limit  \\\n",
       "0       0.0             NaN               NaN            NaN   \n",
       "1       0.0             NaN               NaN            NaN   \n",
       "2       0.0             NaN               NaN            NaN   \n",
       "3       0.0             NaN               NaN            NaN   \n",
       "4       0.0             NaN               NaN            NaN   \n",
       "\n",
       "  total_il_high_credit_limit  \n",
       "0                        NaN  \n",
       "1                        NaN  \n",
       "2                        NaN  \n",
       "3                        NaN  \n",
       "4                        NaN  \n",
       "\n",
       "[5 rows x 111 columns]"
      ]
     },
     "execution_count": 2,
     "metadata": {},
     "output_type": "execute_result"
    }
   ],
   "source": [
    "# Read CSV file and check and load the data set for further analysis \n",
    "loan = pd.read_csv('loan.csv')\n",
    "loan.head()"
   ]
  },
  {
   "cell_type": "markdown",
   "id": "f28233d1-b79d-4c1c-aa3a-13c0ec9b4ddb",
   "metadata": {},
   "source": [
    "## Observation from the first 5 rows\n",
    "\n",
    "1. There are 111 colums and not all columns are visible\n",
    "2. We can see that there are many missing values and we need to handle them\n",
    "3. Not all rows might be required for our analysis and we might drop a few columns\n",
    "4. There are some additional data like('%', 'months'...) added to the rows, we need to clean the data and also if required create derivative columns"
   ]
  },
  {
   "cell_type": "markdown",
   "id": "fccd584e-8c58-4ff2-8d5a-3d1df76eb4e8",
   "metadata": {},
   "source": [
    "### Lets look at all the columns and shape of the dataset before dropping rows/columns"
   ]
  },
  {
   "cell_type": "code",
   "execution_count": 3,
   "id": "1a2933cf-bc3c-4983-9469-898c6b1f52a7",
   "metadata": {},
   "outputs": [
    {
     "data": {
      "text/plain": [
       "(39717, 111)"
      ]
     },
     "execution_count": 3,
     "metadata": {},
     "output_type": "execute_result"
    }
   ],
   "source": [
    "# shape of dataset\n",
    "loan.shape"
   ]
  },
  {
   "cell_type": "code",
   "execution_count": 4,
   "id": "bf7c36b6-e9b6-44e8-89de-fb958ce6e9b6",
   "metadata": {},
   "outputs": [
    {
     "name": "stdout",
     "output_type": "stream",
     "text": [
      "<class 'pandas.core.frame.DataFrame'>\n",
      "RangeIndex: 39717 entries, 0 to 39716\n",
      "Data columns (total 111 columns):\n",
      " #    Column                          Dtype  \n",
      "---   ------                          -----  \n",
      " 0    id                              int64  \n",
      " 1    member_id                       int64  \n",
      " 2    loan_amnt                       int64  \n",
      " 3    funded_amnt                     int64  \n",
      " 4    funded_amnt_inv                 float64\n",
      " 5    term                            object \n",
      " 6    int_rate                        object \n",
      " 7    installment                     float64\n",
      " 8    grade                           object \n",
      " 9    sub_grade                       object \n",
      " 10   emp_title                       object \n",
      " 11   emp_length                      object \n",
      " 12   home_ownership                  object \n",
      " 13   annual_inc                      float64\n",
      " 14   verification_status             object \n",
      " 15   issue_d                         object \n",
      " 16   loan_status                     object \n",
      " 17   pymnt_plan                      object \n",
      " 18   url                             object \n",
      " 19   desc                            object \n",
      " 20   purpose                         object \n",
      " 21   title                           object \n",
      " 22   zip_code                        object \n",
      " 23   addr_state                      object \n",
      " 24   dti                             float64\n",
      " 25   delinq_2yrs                     int64  \n",
      " 26   earliest_cr_line                object \n",
      " 27   inq_last_6mths                  int64  \n",
      " 28   mths_since_last_delinq          float64\n",
      " 29   mths_since_last_record          float64\n",
      " 30   open_acc                        int64  \n",
      " 31   pub_rec                         int64  \n",
      " 32   revol_bal                       int64  \n",
      " 33   revol_util                      object \n",
      " 34   total_acc                       int64  \n",
      " 35   initial_list_status             object \n",
      " 36   out_prncp                       float64\n",
      " 37   out_prncp_inv                   float64\n",
      " 38   total_pymnt                     float64\n",
      " 39   total_pymnt_inv                 float64\n",
      " 40   total_rec_prncp                 float64\n",
      " 41   total_rec_int                   float64\n",
      " 42   total_rec_late_fee              float64\n",
      " 43   recoveries                      float64\n",
      " 44   collection_recovery_fee         float64\n",
      " 45   last_pymnt_d                    object \n",
      " 46   last_pymnt_amnt                 float64\n",
      " 47   next_pymnt_d                    object \n",
      " 48   last_credit_pull_d              object \n",
      " 49   collections_12_mths_ex_med      float64\n",
      " 50   mths_since_last_major_derog     float64\n",
      " 51   policy_code                     int64  \n",
      " 52   application_type                object \n",
      " 53   annual_inc_joint                float64\n",
      " 54   dti_joint                       float64\n",
      " 55   verification_status_joint       float64\n",
      " 56   acc_now_delinq                  int64  \n",
      " 57   tot_coll_amt                    float64\n",
      " 58   tot_cur_bal                     float64\n",
      " 59   open_acc_6m                     float64\n",
      " 60   open_il_6m                      float64\n",
      " 61   open_il_12m                     float64\n",
      " 62   open_il_24m                     float64\n",
      " 63   mths_since_rcnt_il              float64\n",
      " 64   total_bal_il                    float64\n",
      " 65   il_util                         float64\n",
      " 66   open_rv_12m                     float64\n",
      " 67   open_rv_24m                     float64\n",
      " 68   max_bal_bc                      float64\n",
      " 69   all_util                        float64\n",
      " 70   total_rev_hi_lim                float64\n",
      " 71   inq_fi                          float64\n",
      " 72   total_cu_tl                     float64\n",
      " 73   inq_last_12m                    float64\n",
      " 74   acc_open_past_24mths            float64\n",
      " 75   avg_cur_bal                     float64\n",
      " 76   bc_open_to_buy                  float64\n",
      " 77   bc_util                         float64\n",
      " 78   chargeoff_within_12_mths        float64\n",
      " 79   delinq_amnt                     int64  \n",
      " 80   mo_sin_old_il_acct              float64\n",
      " 81   mo_sin_old_rev_tl_op            float64\n",
      " 82   mo_sin_rcnt_rev_tl_op           float64\n",
      " 83   mo_sin_rcnt_tl                  float64\n",
      " 84   mort_acc                        float64\n",
      " 85   mths_since_recent_bc            float64\n",
      " 86   mths_since_recent_bc_dlq        float64\n",
      " 87   mths_since_recent_inq           float64\n",
      " 88   mths_since_recent_revol_delinq  float64\n",
      " 89   num_accts_ever_120_pd           float64\n",
      " 90   num_actv_bc_tl                  float64\n",
      " 91   num_actv_rev_tl                 float64\n",
      " 92   num_bc_sats                     float64\n",
      " 93   num_bc_tl                       float64\n",
      " 94   num_il_tl                       float64\n",
      " 95   num_op_rev_tl                   float64\n",
      " 96   num_rev_accts                   float64\n",
      " 97   num_rev_tl_bal_gt_0             float64\n",
      " 98   num_sats                        float64\n",
      " 99   num_tl_120dpd_2m                float64\n",
      " 100  num_tl_30dpd                    float64\n",
      " 101  num_tl_90g_dpd_24m              float64\n",
      " 102  num_tl_op_past_12m              float64\n",
      " 103  pct_tl_nvr_dlq                  float64\n",
      " 104  percent_bc_gt_75                float64\n",
      " 105  pub_rec_bankruptcies            float64\n",
      " 106  tax_liens                       float64\n",
      " 107  tot_hi_cred_lim                 float64\n",
      " 108  total_bal_ex_mort               float64\n",
      " 109  total_bc_limit                  float64\n",
      " 110  total_il_high_credit_limit      float64\n",
      "dtypes: float64(74), int64(13), object(24)\n",
      "memory usage: 33.6+ MB\n"
     ]
    }
   ],
   "source": [
    "#so we have total 39717 entries of loan and 111 coloumns defining the details of a particular loan \n",
    "# Lets check the info about the dataframe we will also print all the coloumns to check there dtypes \n",
    "#and see if we need to change any coloumns dtype\n",
    "loan.info(verbose=True)"
   ]
  },
  {
   "cell_type": "code",
   "execution_count": 5,
   "id": "7a666f0e-586e-4537-b1e3-c3bd10497ceb",
   "metadata": {},
   "outputs": [],
   "source": [
    "# There are some columns with not so relevant column names which are useful in better understanding.\n",
    "loan = loan.rename(columns = {'loan_amnt' : 'loan_amount', 'funded_amnt' : 'funded_amount', 'int_rate' : 'interest_rate', 'annual_inc' : 'annual_income', 'total_pymnt' : 'total_payment'})"
   ]
  },
  {
   "cell_type": "markdown",
   "id": "88124e57-ee9a-425a-a58d-bd045c85f168",
   "metadata": {},
   "source": [
    "<h2><center>Lets clean the dataset</center></h2>"
   ]
  },
  {
   "cell_type": "markdown",
   "id": "ee6fe594-19fe-4c6f-90a5-0a368813c9dc",
   "metadata": {},
   "source": [
    "### Remove additional values"
   ]
  },
  {
   "cell_type": "code",
   "execution_count": 6,
   "id": "68032647-03b8-458f-b668-b2c1f6a6d4b7",
   "metadata": {},
   "outputs": [],
   "source": [
    "# remove 'months' from terms column, convert it to integer and rename the column to terms_in_months\n",
    "loan['term'] = loan['term'].str.replace(' months', '').astype(int)\n",
    "\n",
    "# rename the column\n",
    "loan.rename(columns={'term': 'terms_in_months'}, inplace=True)"
   ]
  },
  {
   "cell_type": "code",
   "execution_count": 7,
   "id": "ffc0084f-c68d-42a6-8bed-196d2d22f53e",
   "metadata": {},
   "outputs": [],
   "source": [
    "# same goes for interest_rate column\n",
    "loan['interest_rate'] = loan['interest_rate'].str.replace('%', '').astype(float)"
   ]
  },
  {
   "cell_type": "markdown",
   "id": "54f6e833-c724-4795-ab97-91510e95ed97",
   "metadata": {},
   "source": [
    "## Identify and handle missing values"
   ]
  },
  {
   "cell_type": "markdown",
   "id": "31f8d7de-36a7-40e5-aeec-c8eb4d27944a",
   "metadata": {},
   "source": [
    "### Check and remove any duplicate Row"
   ]
  },
  {
   "cell_type": "code",
   "execution_count": 8,
   "id": "02d8b0b2-e31b-4fc3-a9ca-e02ed0c23ac5",
   "metadata": {},
   "outputs": [
    {
     "data": {
      "text/plain": [
       "0"
      ]
     },
     "execution_count": 8,
     "metadata": {},
     "output_type": "execute_result"
    }
   ],
   "source": [
    "loan.duplicated().sum()"
   ]
  },
  {
   "cell_type": "markdown",
   "id": "93df8978-5128-4061-9e6f-8e656f0990f8",
   "metadata": {},
   "source": [
    "Looks like there are no duplicates"
   ]
  },
  {
   "cell_type": "markdown",
   "id": "f012db76-0946-4673-9e48-5e69bb753828",
   "metadata": {},
   "source": [
    "### Check for missing values"
   ]
  },
  {
   "cell_type": "code",
   "execution_count": 9,
   "id": "e32f1da6-1dfe-4e51-8aa6-7011a00feb06",
   "metadata": {},
   "outputs": [
    {
     "data": {
      "text/plain": [
       "id                                0\n",
       "member_id                         0\n",
       "loan_amount                       0\n",
       "funded_amount                     0\n",
       "funded_amnt_inv                   0\n",
       "                              ...  \n",
       "tax_liens                        39\n",
       "tot_hi_cred_lim               39717\n",
       "total_bal_ex_mort             39717\n",
       "total_bc_limit                39717\n",
       "total_il_high_credit_limit    39717\n",
       "Length: 111, dtype: int64"
      ]
     },
     "execution_count": 9,
     "metadata": {},
     "output_type": "execute_result"
    }
   ],
   "source": [
    "loan.isnull().sum()"
   ]
  },
  {
   "cell_type": "markdown",
   "id": "4cdcffcc-246d-4619-94c6-2a38a480ddb5",
   "metadata": {},
   "source": [
    "### Observation\n",
    "\n",
    "1. Some of the columns have all the null values and looks like these coluns might not be needed"
   ]
  },
  {
   "cell_type": "code",
   "execution_count": 10,
   "id": "d388e388-32f4-4441-aba9-8e8ebe5c2c4a",
   "metadata": {},
   "outputs": [
    {
     "data": {
      "text/plain": [
       "mo_sin_old_il_acct                100.00\n",
       "mo_sin_old_rev_tl_op              100.00\n",
       "mo_sin_rcnt_tl                    100.00\n",
       "mort_acc                          100.00\n",
       "mths_since_recent_bc              100.00\n",
       "mths_since_recent_bc_dlq          100.00\n",
       "mths_since_recent_inq             100.00\n",
       "mths_since_recent_revol_delinq    100.00\n",
       "num_accts_ever_120_pd             100.00\n",
       "num_actv_bc_tl                    100.00\n",
       "num_actv_rev_tl                   100.00\n",
       "num_bc_sats                       100.00\n",
       "num_bc_tl                         100.00\n",
       "num_il_tl                         100.00\n",
       "num_op_rev_tl                     100.00\n",
       "num_rev_accts                     100.00\n",
       "num_rev_tl_bal_gt_0               100.00\n",
       "num_sats                          100.00\n",
       "num_tl_120dpd_2m                  100.00\n",
       "num_tl_30dpd                      100.00\n",
       "num_tl_90g_dpd_24m                100.00\n",
       "num_tl_op_past_12m                100.00\n",
       "pct_tl_nvr_dlq                    100.00\n",
       "percent_bc_gt_75                  100.00\n",
       "tot_hi_cred_lim                   100.00\n",
       "total_bal_ex_mort                 100.00\n",
       "total_bc_limit                    100.00\n",
       "mo_sin_rcnt_rev_tl_op             100.00\n",
       "total_il_high_credit_limit        100.00\n",
       "total_bal_il                      100.00\n",
       "bc_util                           100.00\n",
       "annual_inc_joint                  100.00\n",
       "dti_joint                         100.00\n",
       "verification_status_joint         100.00\n",
       "tot_coll_amt                      100.00\n",
       "tot_cur_bal                       100.00\n",
       "open_acc_6m                       100.00\n",
       "open_il_6m                        100.00\n",
       "open_il_12m                       100.00\n",
       "open_il_24m                       100.00\n",
       "mths_since_rcnt_il                100.00\n",
       "il_util                           100.00\n",
       "open_rv_12m                       100.00\n",
       "open_rv_24m                       100.00\n",
       "max_bal_bc                        100.00\n",
       "all_util                          100.00\n",
       "total_rev_hi_lim                  100.00\n",
       "inq_fi                            100.00\n",
       "total_cu_tl                       100.00\n",
       "inq_last_12m                      100.00\n",
       "acc_open_past_24mths              100.00\n",
       "avg_cur_bal                       100.00\n",
       "bc_open_to_buy                    100.00\n",
       "mths_since_last_major_derog       100.00\n",
       "next_pymnt_d                       97.13\n",
       "mths_since_last_record             92.99\n",
       "mths_since_last_delinq             64.66\n",
       "dtype: float64"
      ]
     },
     "execution_count": 10,
     "metadata": {},
     "output_type": "execute_result"
    }
   ],
   "source": [
    "#calculate the percentage of null values in a columns and print the column have percentage more then 60 \n",
    "# as null values can impact the data analysis\n",
    "nullValuePercentage= round((loan.isnull().sum()/len(loan))*100,2)\n",
    "nullValuePercentage[nullValuePercentage>60].sort_values(ascending=False)"
   ]
  },
  {
   "cell_type": "markdown",
   "id": "c9583b82-0332-464d-9362-ca5d4cbce46c",
   "metadata": {},
   "source": [
    "1. From the above we see that there are quite a few columns which are completely null and these might not add any additional insights.\n",
    "2. Lets drop these columns and also drop the columns and also drop columns where null value percentage is greater than 60"
   ]
  },
  {
   "cell_type": "code",
   "execution_count": 11,
   "id": "8ea5fc74-c3ab-425f-9479-a2b7e1bfd56a",
   "metadata": {},
   "outputs": [
    {
     "data": {
      "text/plain": [
       "(39717, 54)"
      ]
     },
     "execution_count": 11,
     "metadata": {},
     "output_type": "execute_result"
    }
   ],
   "source": [
    "#removing the columns having more than 60% of null value\n",
    "loan = loan.loc[:,(loan.isnull().sum()/len(loan)*100)<60]\n",
    "\n",
    "loan.shape"
   ]
  },
  {
   "cell_type": "markdown",
   "id": "ccc26509-c570-4075-82b0-ffeb6cfe6994",
   "metadata": {},
   "source": [
    "Looks like almost half of the columns have been dropped which contains null values greater than 60 percent\n",
    "\n",
    "Lets further analyse the column and check their importance and decide if they are useful for our analysis else drop those columns"
   ]
  },
  {
   "cell_type": "code",
   "execution_count": 12,
   "id": "3b3ea4b1-c125-4513-b7f1-6608303da578",
   "metadata": {},
   "outputs": [
    {
     "name": "stdout",
     "output_type": "stream",
     "text": [
      "desc                          32.59\n",
      "emp_title                      6.19\n",
      "emp_length                     2.71\n",
      "pub_rec_bankruptcies           1.75\n",
      "last_pymnt_d                   0.18\n",
      "collections_12_mths_ex_med     0.14\n",
      "chargeoff_within_12_mths       0.14\n",
      "revol_util                     0.13\n",
      "tax_liens                      0.10\n",
      "title                          0.03\n",
      "last_credit_pull_d             0.01\n",
      "total_rec_prncp                0.00\n",
      "out_prncp                      0.00\n",
      "initial_list_status            0.00\n",
      "out_prncp_inv                  0.00\n",
      "total_acc                      0.00\n",
      "total_payment                  0.00\n",
      "total_pymnt_inv                0.00\n",
      "collection_recovery_fee        0.00\n",
      "total_rec_int                  0.00\n",
      "total_rec_late_fee             0.00\n",
      "recoveries                     0.00\n",
      "pub_rec                        0.00\n",
      "last_pymnt_amnt                0.00\n",
      "policy_code                    0.00\n",
      "application_type               0.00\n",
      "acc_now_delinq                 0.00\n",
      "delinq_amnt                    0.00\n",
      "revol_bal                      0.00\n",
      "id                             0.00\n",
      "open_acc                       0.00\n",
      "member_id                      0.00\n",
      "loan_amount                    0.00\n",
      "funded_amount                  0.00\n",
      "funded_amnt_inv                0.00\n",
      "terms_in_months                0.00\n",
      "interest_rate                  0.00\n",
      "installment                    0.00\n",
      "grade                          0.00\n",
      "sub_grade                      0.00\n",
      "home_ownership                 0.00\n",
      "annual_income                  0.00\n",
      "verification_status            0.00\n",
      "issue_d                        0.00\n",
      "loan_status                    0.00\n",
      "pymnt_plan                     0.00\n",
      "url                            0.00\n",
      "purpose                        0.00\n",
      "zip_code                       0.00\n",
      "addr_state                     0.00\n",
      "dti                            0.00\n",
      "delinq_2yrs                    0.00\n",
      "earliest_cr_line               0.00\n",
      "inq_last_6mths                 0.00\n",
      "dtype: float64\n"
     ]
    }
   ],
   "source": [
    "# again check the percentage of null value in the coloumns \n",
    "print(round((loan.isnull().sum()/len(loan))*100,2).sort_values(ascending=False))"
   ]
  },
  {
   "cell_type": "code",
   "execution_count": 13,
   "id": "9a2a6a72-c7cd-494e-86a8-17528eb2bbb1",
   "metadata": {},
   "outputs": [],
   "source": [
    "# # There are few more columns which doesnt add any value like the last 3 digits of a zip_code, description and Title are very similar, id, member_id, url .... Lets drop these columns\n",
    "# loan.drop( ['id', 'member_id', 'emp_title', 'collection_recovery_fee','url', 'desc',\n",
    "#             'title','zip_code','inq_last_6mths','collection_recovery_fee',\n",
    "#             'recoveries','tax_liens','total_rec_late_fee','policy_code','last_pymnt_d',\n",
    "#             'earliest_cr_line','total_rec_int','total_rec_prncp','delinq_2yrs', 'open_acc', 'pub_rec', 'total_acc', 'last_pymnt_amnt','total_pymnt_inv','total_pymnt', 'chargeoff_within_12_mths','collections_12_mths_ex_med','revol_util','revol_bal','last_credit_pull_d'],axis=1,inplace=True)"
   ]
  },
  {
   "cell_type": "code",
   "execution_count": 16,
   "id": "f0b0c5b7-a175-4552-9568-c0978e71b0ca",
   "metadata": {},
   "outputs": [],
   "source": [
    "def analyze_outliers(dataframe, column_name):\n",
    "    \"\"\"\n",
    "    Generates a boxplot for the specified column and displays statistical details.\n",
    "    \n",
    "    Parameters:\n",
    "    - dataframe (pd.DataFrame): The DataFrame containing the data.\n",
    "    - column_name (str): The name of the column to analyze.\n",
    "\n",
    "    Returns:\n",
    "    - None; outputs a boxplot and prints statistical details of the column.\n",
    "    \"\"\"\n",
    "    if column_name in dataframe.columns:\n",
    "        # Generate boxplot\n",
    "        plt.figure(figsize=(10, 6))\n",
    "        sns.boxplot(x=dataframe[column_name])\n",
    "        plt.title(f'Boxplot for {column_name}')\n",
    "        plt.grid(True)\n",
    "        plt.show()\n",
    "\n",
    "        # Calculate and display statistics\n",
    "        stats = dataframe[column_name].describe()\n",
    "        additional_stats = pd.Series({\n",
    "            'mean': dataframe[column_name].mean(),\n",
    "            'std_dev': dataframe[column_name].std(),\n",
    "            'variance': dataframe[column_name].var()\n",
    "        })\n",
    "        \n",
    "        # Using concat to combine the statistics\n",
    "        all_stats = pd.concat([stats, additional_stats])\n",
    "        print(\"\\nStatistical Details:\")\n",
    "        print(all_stats)\n",
    "    else:\n",
    "        print(\"Column name provided does not exist in the dataframe.\")"
   ]
  },
  {
   "cell_type": "code",
   "execution_count": 17,
   "id": "0b3f3e80-920f-4230-ba8b-d23eba068655",
   "metadata": {},
   "outputs": [
    {
     "data": {
      "image/png": "[encoded data removed]",
      "text/plain": [
       "<Figure size 1000x600 with 1 Axes>"
      ]
     },
     "metadata": {},
     "output_type": "display_data"
    },
    {
     "name": "stdout",
     "output_type": "stream",
     "text": [
      "\n",
      "Statistical Details:\n",
      "count       3.971700e+04\n",
      "mean        1.121944e+04\n",
      "std         7.456671e+03\n",
      "min         5.000000e+02\n",
      "25%         5.500000e+03\n",
      "50%         1.000000e+04\n",
      "75%         1.500000e+04\n",
      "max         3.500000e+04\n",
      "mean        1.121944e+04\n",
      "std_dev     7.456671e+03\n",
      "variance    5.560194e+07\n",
      "dtype: float64\n"
     ]
    }
   ],
   "source": [
    "analyze_outliers(loan, 'loan_amount')"
   ]
  },
  {
   "cell_type": "code",
   "execution_count": 37,
   "id": "6b8f8623-fa2a-4c11-99a9-9b59c43fa7f9",
   "metadata": {},
   "outputs": [],
   "source": [
    "def analyze_outliers(dataframe, column_name):\n",
    "    if column_name in dataframe.columns:\n",
    "        # Create a boxplot to visualize outliers\n",
    "        fig, ax = plt.subplots(figsize=(10, 6))\n",
    "        sns.boxplot(x=dataframe[column_name], ax=ax)\n",
    "        plt.grid(True)\n",
    "        plt.title(f'Boxplot for {column_name}')\n",
    "        plt.show()\n",
    "\n",
    "        # Compute basic statistics\n",
    "        stats = dataframe[column_name].describe()\n",
    "\n",
    "        # Compute additional statistics\n",
    "        additional_stats = pd.Series({\n",
    "            'mean': dataframe[column_name].mean(),\n",
    "            'std_dev': dataframe[column_name].std(),\n",
    "            'variance': dataframe[column_name].var()\n",
    "        })\n",
    "\n",
    "        # Combine all statistics\n",
    "        all_stats = pd.concat([stats, additional_stats])\n",
    "\n",
    "        # Format all statistics for human-readable output\n",
    "        readable_stats = {key: f\"{value:,.2f}\" for key, value in all_stats.items()}\n",
    "\n",
    "        # Print the formatted statistics\n",
    "        print(\"\\nStatistical Details:\")\n",
    "        for key, value in readable_stats.items():\n",
    "            print(f\"{key.capitalize()}: {value}\")\n",
    "\n",
    "    else:\n",
    "        print(\"Column name provided does not exist in the dataframe.\")"
   ]
  },
  {
   "cell_type": "code",
   "execution_count": 38,
   "id": "56ef975e-b9a4-4328-9847-89e6603fcebb",
   "metadata": {},
   "outputs": [
    {
     "data": {
      "image/png": "[encoded data removed]",
      "text/plain": [
       "<Figure size 1000x600 with 1 Axes>"
      ]
     },
     "metadata": {},
     "output_type": "display_data"
    },
    {
     "name": "stdout",
     "output_type": "stream",
     "text": [
      "\n",
      "Statistical Details:\n",
      "Count: 39,717.00\n",
      "Mean: 11,219.44\n",
      "Std: 7,456.67\n",
      "Min: 500.00\n",
      "25%: 5,500.00\n",
      "50%: 10,000.00\n",
      "75%: 15,000.00\n",
      "Max: 35,000.00\n",
      "Std_dev: 7,456.67\n",
      "Variance: 55,601,937.84\n"
     ]
    }
   ],
   "source": [
    "analyze_outliers(loan, 'loan_amount')"
   ]
  },
  {
   "cell_type": "markdown",
   "id": "12b672c9-b3a1-4081-878e-6b88a0f8729b",
   "metadata": {},
   "source": [
    "## Observations:\n",
    "\n",
    "1. There are few points which lie outside of the IQR but these look like continous values and wide range."
   ]
  },
  {
   "cell_type": "code",
   "execution_count": 39,
   "id": "49aa66f4-16b0-49b9-9f5f-bd4bbd3d28d0",
   "metadata": {},
   "outputs": [
    {
     "data": {
      "image/png": "[encoded data removed]",
      "text/plain": [
       "<Figure size 1000x600 with 1 Axes>"
      ]
     },
     "metadata": {},
     "output_type": "display_data"
    },
    {
     "name": "stdout",
     "output_type": "stream",
     "text": [
      "\n",
      "Statistical Details:\n",
      "Count: 39,717.00\n",
      "Mean: 68,968.93\n",
      "Std: 63,793.77\n",
      "Min: 4,000.00\n",
      "25%: 40,404.00\n",
      "50%: 59,000.00\n",
      "75%: 82,300.00\n",
      "Max: 6,000,000.00\n",
      "Std_dev: 63,793.77\n",
      "Variance: 4,069,644,553.68\n"
     ]
    }
   ],
   "source": [
    "analyze_outliers(loan, 'annual_income')"
   ]
  },
  {
   "cell_type": "markdown",
   "id": "dbd01d83-44a2-4083-acb4-38ce7ddc7510",
   "metadata": {},
   "source": [
    "## Observations:\n",
    "\n",
    "1. From the above graph, you can see there are few points which are extreme right and far away from the IQR range.\n",
    "2. To have meaningful insights, we will go ahead and drop the data points which are greater than 95 percentile as these points are considerd outliers.\n",
    "3. Lets remove the outliers are then plot the box again"
   ]
  },
  {
   "cell_type": "code",
   "execution_count": 40,
   "id": "5f45aff4-b769-4ac3-b339-e47c240655cb",
   "metadata": {},
   "outputs": [
    {
     "data": {
      "image/png": "[encoded data removed]",
      "text/plain": [
       "<Figure size 1000x600 with 1 Axes>"
      ]
     },
     "metadata": {},
     "output_type": "display_data"
    },
    {
     "name": "stdout",
     "output_type": "stream",
     "text": [
      "\n",
      "Statistical Details:\n",
      "Count: 37,730.00\n",
      "Mean: 61,043.98\n",
      "Std: 27,795.21\n",
      "Min: 4,000.00\n",
      "25%: 40,000.00\n",
      "50%: 56,000.00\n",
      "75%: 78,000.00\n",
      "Max: 141,996.00\n",
      "Std_dev: 27,795.21\n",
      "Variance: 772,573,774.68\n"
     ]
    }
   ],
   "source": [
    "# remove outliers and box plot again\n",
    "loan = loan[loan['annual_income'] < loan['annual_income'].quantile(0.95)]\n",
    "\n",
    "analyze_outliers(loan, 'annual_income')"
   ]
  },
  {
   "cell_type": "code",
   "execution_count": 41,
   "id": "3b734659-8b8e-4328-8ff6-f1e0866645b0",
   "metadata": {},
   "outputs": [
    {
     "data": {
      "image/png": "[encoded data removed]",
      "text/plain": [
       "<Figure size 1000x600 with 1 Axes>"
      ]
     },
     "metadata": {},
     "output_type": "display_data"
    },
    {
     "name": "stdout",
     "output_type": "stream",
     "text": [
      "\n",
      "Statistical Details:\n",
      "Count: 37,730.00\n",
      "Mean: 313.85\n",
      "Std: 199.48\n",
      "Min: 15.69\n",
      "25%: 163.96\n",
      "50%: 273.10\n",
      "75%: 412.05\n",
      "Max: 1,305.19\n",
      "Std_dev: 199.48\n",
      "Variance: 39,793.43\n"
     ]
    }
   ],
   "source": [
    "analyze_outliers(loan, 'installment')"
   ]
  },
  {
   "cell_type": "code",
   "execution_count": 42,
   "id": "275fd86f-6faf-46e7-8cb9-bce026a9a980",
   "metadata": {},
   "outputs": [
    {
     "data": {
      "image/png": "[encoded data removed]",
      "text/plain": [
       "<Figure size 1000x600 with 1 Axes>"
      ]
     },
     "metadata": {},
     "output_type": "display_data"
    },
    {
     "name": "stdout",
     "output_type": "stream",
     "text": [
      "\n",
      "Statistical Details:\n",
      "Count: 37,730.00\n",
      "Mean: 11.97\n",
      "Std: 3.70\n",
      "Min: 5.42\n",
      "25%: 8.94\n",
      "50%: 11.83\n",
      "75%: 14.46\n",
      "Max: 24.40\n",
      "Std_dev: 3.70\n",
      "Variance: 13.67\n"
     ]
    }
   ],
   "source": [
    "analyze_outliers(loan, 'interest_rate')"
   ]
  },
  {
   "cell_type": "code",
   "execution_count": null,
   "id": "798e0e85-4fae-40fd-a240-07cea782d97f",
   "metadata": {},
   "outputs": [],
   "source": []
  }
 ],
 "metadata": {
  "kernelspec": {
   "display_name": "Python 3 (ipykernel)",
   "language": "python",
   "name": "python3"
  },
  "language_info": {
   "codemirror_mode": {
    "name": "ipython",
    "version": 3
   },
   "file_extension": ".py",
   "mimetype": "text/x-python",
   "name": "python",
   "nbconvert_exporter": "python",
   "pygments_lexer": "ipython3",
   "version": "3.10.12"
  },
  "widgets": {
   "application/vnd.jupyter.widget-state+json": {
    "state": {
     "07b9d5fb358645cfbcbad8c42cb051d8": {
      "model_module": "@jupyter-widgets/base",
      "model_module_version": "2.0.0",
      "model_name": "LayoutModel",
      "state": {}
     },
     "09f852ec6acb437aa064052f7a911bfc": {
      "model_module": "@jupyter-widgets/output",
      "model_module_version": "1.0.0",
      "model_name": "OutputModel",
      "state": {
       "layout": "IPY_MODEL_40edacb53b214bfdbbb7dada6791dc40"
      }
     },
     "12971e5d4b6f405c8f580f8bef67b88e": {
      "model_module": "@jupyter-widgets/controls",
      "model_module_version": "2.0.0",
      "model_name": "DropdownModel",
      "state": {
       "_options_labels": [
        "id",
        "member_id",
        "loan_amount",
        "funded_amount",
        "funded_amnt_inv",
        "terms_in_months",
        "interest_rate",
        "installment",
        "grade",
        "sub_grade",
        "emp_title",
        "emp_length",
        "home_ownership",
        "annual_income",
        "verification_status",
        "issue_d",
        "loan_status",
        "pymnt_plan",
        "url",
        "desc",
        "purpose",
        "title",
        "zip_code",
        "addr_state",
        "dti",
        "delinq_2yrs",
        "earliest_cr_line",
        "inq_last_6mths",
        "open_acc",
        "pub_rec",
        "revol_bal",
        "revol_util",
        "total_acc",
        "initial_list_status",
        "out_prncp",
        "out_prncp_inv",
        "total_payment",
        "total_pymnt_inv",
        "total_rec_prncp",
        "total_rec_int",
        "total_rec_late_fee",
        "recoveries",
        "collection_recovery_fee",
        "last_pymnt_d",
        "last_pymnt_amnt",
        "last_credit_pull_d",
        "collections_12_mths_ex_med",
        "policy_code",
        "application_type",
        "acc_now_delinq",
        "chargeoff_within_12_mths",
        "delinq_amnt",
        "pub_rec_bankruptcies",
        "tax_liens"
       ],
       "description": "Select Column:",
       "index": 0,
       "layout": "IPY_MODEL_15680b74d8cf4986b8645b5d57684aaa",
       "style": "IPY_MODEL_f39fe49c8da54193bc2c7b18a1347f4e"
      }
     },
     "15680b74d8cf4986b8645b5d57684aaa": {
      "model_module": "@jupyter-widgets/base",
      "model_module_version": "2.0.0",
      "model_name": "LayoutModel",
      "state": {}
     },
     "18229c7411184cca977a0545a4451377": {
      "model_module": "@jupyter-widgets/base",
      "model_module_version": "2.0.0",
      "model_name": "LayoutModel",
      "state": {}
     },
     "1c7da0c7856b4e8a8ef772513587f861": {
      "model_module": "@jupyter-widgets/controls",
      "model_module_version": "2.0.0",
      "model_name": "DescriptionStyleModel",
      "state": {
       "description_width": ""
      }
     },
     "315e9fe5300a4c46b0d20ddb6cf3e8bb": {
      "model_module": "@jupyter-widgets/controls",
      "model_module_version": "2.0.0",
      "model_name": "DropdownModel",
      "state": {
       "_options_labels": [
        "id",
        "member_id",
        "loan_amount",
        "funded_amount",
        "funded_amnt_inv",
        "terms_in_months",
        "interest_rate",
        "installment",
        "grade",
        "sub_grade",
        "emp_title",
        "emp_length",
        "home_ownership",
        "annual_income",
        "verification_status",
        "issue_d",
        "loan_status",
        "pymnt_plan",
        "url",
        "desc",
        "purpose",
        "title",
        "zip_code",
        "addr_state",
        "dti",
        "delinq_2yrs",
        "earliest_cr_line",
        "inq_last_6mths",
        "open_acc",
        "pub_rec",
        "revol_bal",
        "revol_util",
        "total_acc",
        "initial_list_status",
        "out_prncp",
        "out_prncp_inv",
        "total_payment",
        "total_pymnt_inv",
        "total_rec_prncp",
        "total_rec_int",
        "total_rec_late_fee",
        "recoveries",
        "collection_recovery_fee",
        "last_pymnt_d",
        "last_pymnt_amnt",
        "last_credit_pull_d",
        "collections_12_mths_ex_med",
        "policy_code",
        "application_type",
        "acc_now_delinq",
        "chargeoff_within_12_mths",
        "delinq_amnt",
        "pub_rec_bankruptcies",
        "tax_liens"
       ],
       "description": "Select Column:",
       "index": 0,
       "layout": "IPY_MODEL_18229c7411184cca977a0545a4451377",
       "style": "IPY_MODEL_9a10b98969fa45ceb5363b2e133e2439"
      }
     },
     "348bb0353f90418a92f5da3341063f9b": {
      "model_module": "@jupyter-widgets/base",
      "model_module_version": "2.0.0",
      "model_name": "LayoutModel",
      "state": {}
     },
     "40edacb53b214bfdbbb7dada6791dc40": {
      "model_module": "@jupyter-widgets/base",
      "model_module_version": "2.0.0",
      "model_name": "LayoutModel",
      "state": {}
     },
     "4397b7e373e64b0c8dd4c7f0af885862": {
      "model_module": "@jupyter-widgets/controls",
      "model_module_version": "2.0.0",
      "model_name": "DescriptionStyleModel",
      "state": {
       "description_width": ""
      }
     },
     "45753442b5aa459bb28e686489e354e1": {
      "model_module": "@jupyter-widgets/base",
      "model_module_version": "2.0.0",
      "model_name": "LayoutModel",
      "state": {}
     },
     "4dcbbbafc870410b8ad296f9163cfb48": {
      "model_module": "@jupyter-widgets/base",
      "model_module_version": "2.0.0",
      "model_name": "LayoutModel",
      "state": {}
     },
     "505d6817ac114609b18ff7995fe750fd": {
      "model_module": "@jupyter-widgets/output",
      "model_module_version": "1.0.0",
      "model_name": "OutputModel",
      "state": {
       "layout": "IPY_MODEL_88ddf55f6742430b8bcb06254a518b7b"
      }
     },
     "52bd4b812c234101b43de1646ce055f1": {
      "model_module": "@jupyter-widgets/base",
      "model_module_version": "2.0.0",
      "model_name": "LayoutModel",
      "state": {}
     },
     "55452da0e3044f2caadb5bd5c2cad3f6": {
      "model_module": "@jupyter-widgets/base",
      "model_module_version": "2.0.0",
      "model_name": "LayoutModel",
      "state": {}
     },
     "5582bf405c7c45f8bae255e72f1f302d": {
      "model_module": "@jupyter-widgets/base",
      "model_module_version": "2.0.0",
      "model_name": "LayoutModel",
      "state": {}
     },
     "5609053219b844f0ae28c8a036983729": {
      "model_module": "@jupyter-widgets/controls",
      "model_module_version": "2.0.0",
      "model_name": "DescriptionStyleModel",
      "state": {
       "description_width": ""
      }
     },
     "56bf612a5b55493e9b9dc9a2bf7bb1fd": {
      "model_module": "@jupyter-widgets/output",
      "model_module_version": "1.0.0",
      "model_name": "OutputModel",
      "state": {
       "layout": "IPY_MODEL_55452da0e3044f2caadb5bd5c2cad3f6",
       "outputs": [
        {
         "data": {
          "image/png": "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",
          "text/plain": "<Figure size 1000x600 with 1 Axes>"
         },
         "metadata": {},
         "output_type": "display_data"
        }
       ]
      }
     },
     "65739ca92bdb4e06b9ea683550859b5a": {
      "model_module": "@jupyter-widgets/controls",
      "model_module_version": "2.0.0",
      "model_name": "VBoxModel",
      "state": {
       "_dom_classes": [
        "widget-interact"
       ],
       "children": [
        "IPY_MODEL_697f2813ad4740ef8d38fdf80d3dce74",
        "IPY_MODEL_6f375e17e39449f4bebb3ceeb9f1c506"
       ],
       "layout": "IPY_MODEL_b54f75af42e940e1b059f42ceb0a146d"
      }
     },
     "697ed0e5f8634a41990c7c58ac2b250a": {
      "model_module": "@jupyter-widgets/base",
      "model_module_version": "2.0.0",
      "model_name": "LayoutModel",
      "state": {}
     },
     "697f2813ad4740ef8d38fdf80d3dce74": {
      "model_module": "@jupyter-widgets/controls",
      "model_module_version": "2.0.0",
      "model_name": "DropdownModel",
      "state": {
       "_options_labels": [
        "id",
        "member_id",
        "loan_amount",
        "funded_amount",
        "funded_amnt_inv",
        "terms_in_months",
        "interest_rate",
        "installment",
        "grade",
        "sub_grade",
        "emp_title",
        "emp_length",
        "home_ownership",
        "annual_income",
        "verification_status",
        "issue_d",
        "loan_status",
        "pymnt_plan",
        "url",
        "desc",
        "purpose",
        "title",
        "zip_code",
        "addr_state",
        "dti",
        "delinq_2yrs",
        "earliest_cr_line",
        "inq_last_6mths",
        "open_acc",
        "pub_rec",
        "revol_bal",
        "revol_util",
        "total_acc",
        "initial_list_status",
        "out_prncp",
        "out_prncp_inv",
        "total_payment",
        "total_pymnt_inv",
        "total_rec_prncp",
        "total_rec_int",
        "total_rec_late_fee",
        "recoveries",
        "collection_recovery_fee",
        "last_pymnt_d",
        "last_pymnt_amnt",
        "last_credit_pull_d",
        "collections_12_mths_ex_med",
        "policy_code",
        "application_type",
        "acc_now_delinq",
        "chargeoff_within_12_mths",
        "delinq_amnt",
        "pub_rec_bankruptcies",
        "tax_liens"
       ],
       "description": "Select Column:",
       "index": 0,
       "layout": "IPY_MODEL_4dcbbbafc870410b8ad296f9163cfb48",
       "style": "IPY_MODEL_d849d788a0f149cfb99a48dbc6c9ce4f"
      }
     },
     "6b548e554b0242b7a845390f6a8b135c": {
      "model_module": "@jupyter-widgets/controls",
      "model_module_version": "2.0.0",
      "model_name": "VBoxModel",
      "state": {
       "_dom_classes": [
        "widget-interact"
       ],
       "children": [
        "IPY_MODEL_d4248c9471114afd8f028acf56a3378b",
        "IPY_MODEL_7c1356a6e7754d05b2cf9bd2e94719bf"
       ],
       "layout": "IPY_MODEL_348bb0353f90418a92f5da3341063f9b"
      }
     },
     "6f375e17e39449f4bebb3ceeb9f1c506": {
      "model_module": "@jupyter-widgets/output",
      "model_module_version": "1.0.0",
      "model_name": "OutputModel",
      "state": {
       "layout": "IPY_MODEL_e7c49cd46f3049399933159619c8bab0"
      }
     },
     "704201c88f3b482ba6b26baee33a9a3d": {
      "model_module": "@jupyter-widgets/base",
      "model_module_version": "2.0.0",
      "model_name": "LayoutModel",
      "state": {}
     },
     "7b9e874f799645ec8b7c459031d71876": {
      "model_module": "@jupyter-widgets/controls",
      "model_module_version": "2.0.0",
      "model_name": "DropdownModel",
      "state": {
       "_options_labels": [
        "id",
        "member_id",
        "loan_amount",
        "funded_amount",
        "funded_amnt_inv",
        "terms_in_months",
        "interest_rate",
        "installment",
        "grade",
        "sub_grade",
        "emp_title",
        "emp_length",
        "home_ownership",
        "annual_income",
        "verification_status",
        "issue_d",
        "loan_status",
        "pymnt_plan",
        "url",
        "desc",
        "purpose",
        "title",
        "zip_code",
        "addr_state",
        "dti",
        "delinq_2yrs",
        "earliest_cr_line",
        "inq_last_6mths",
        "open_acc",
        "pub_rec",
        "revol_bal",
        "revol_util",
        "total_acc",
        "initial_list_status",
        "out_prncp",
        "out_prncp_inv",
        "total_payment",
        "total_pymnt_inv",
        "total_rec_prncp",
        "total_rec_int",
        "total_rec_late_fee",
        "recoveries",
        "collection_recovery_fee",
        "last_pymnt_d",
        "last_pymnt_amnt",
        "last_credit_pull_d",
        "collections_12_mths_ex_med",
        "policy_code",
        "application_type",
        "acc_now_delinq",
        "chargeoff_within_12_mths",
        "delinq_amnt",
        "pub_rec_bankruptcies",
        "tax_liens"
       ],
       "description": "Select Column:",
       "index": 0,
       "layout": "IPY_MODEL_5582bf405c7c45f8bae255e72f1f302d",
       "style": "IPY_MODEL_5609053219b844f0ae28c8a036983729"
      }
     },
     "7c1356a6e7754d05b2cf9bd2e94719bf": {
      "model_module": "@jupyter-widgets/output",
      "model_module_version": "1.0.0",
      "model_name": "OutputModel",
      "state": {
       "layout": "IPY_MODEL_704201c88f3b482ba6b26baee33a9a3d",
       "outputs": [
        {
         "ename": "AttributeError",
         "evalue": "'function' object has no attribute 'clear_output'",
         "output_type": "error",
         "traceback": [
          "\u001b[0;31m---------------------------------------------------------------------------\u001b[0m",
          "\u001b[0;31mAttributeError\u001b[0m                            Traceback (most recent call last)",
          "File \u001b[0;32m/usr/local/lib/python3.10/dist-packages/ipywidgets/widgets/interaction.py:240\u001b[0m, in \u001b[0;36minteractive.update\u001b[0;34m(self, *args)\u001b[0m\n\u001b[1;32m    238\u001b[0m     value \u001b[38;5;241m=\u001b[39m widget\u001b[38;5;241m.\u001b[39mget_interact_value()\n\u001b[1;32m    239\u001b[0m     \u001b[38;5;28mself\u001b[39m\u001b[38;5;241m.\u001b[39mkwargs[widget\u001b[38;5;241m.\u001b[39m_kwarg] \u001b[38;5;241m=\u001b[39m value\n\u001b[0;32m--> 240\u001b[0m \u001b[38;5;28mself\u001b[39m\u001b[38;5;241m.\u001b[39mresult \u001b[38;5;241m=\u001b[39m \u001b[38;5;28;43mself\u001b[39;49m\u001b[38;5;241;43m.\u001b[39;49m\u001b[43mf\u001b[49m\u001b[43m(\u001b[49m\u001b[38;5;241;43m*\u001b[39;49m\u001b[38;5;241;43m*\u001b[39;49m\u001b[38;5;28;43mself\u001b[39;49m\u001b[38;5;241;43m.\u001b[39;49m\u001b[43mkwargs\u001b[49m\u001b[43m)\u001b[49m\n\u001b[1;32m    241\u001b[0m show_inline_matplotlib_plots()\n\u001b[1;32m    242\u001b[0m \u001b[38;5;28;01mif\u001b[39;00m \u001b[38;5;28mself\u001b[39m\u001b[38;5;241m.\u001b[39mauto_display \u001b[38;5;129;01mand\u001b[39;00m \u001b[38;5;28mself\u001b[39m\u001b[38;5;241m.\u001b[39mresult \u001b[38;5;129;01mis\u001b[39;00m \u001b[38;5;129;01mnot\u001b[39;00m \u001b[38;5;28;01mNone\u001b[39;00m:\n",
          "Cell \u001b[0;32mIn[21], line 10\u001b[0m, in \u001b[0;36minteractive_column_selector.<locals>.update_plot\u001b[0;34m(column_name)\u001b[0m\n\u001b[1;32m      8\u001b[0m \u001b[38;5;28;01mdef\u001b[39;00m \u001b[38;5;21mupdate_plot\u001b[39m(column_name):\n\u001b[1;32m      9\u001b[0m     \u001b[38;5;66;03m# Clear current output to avoid flooding with outputs\u001b[39;00m\n\u001b[0;32m---> 10\u001b[0m     \u001b[43mdisplay\u001b[49m\u001b[38;5;241;43m.\u001b[39;49m\u001b[43mclear_output\u001b[49m(wait\u001b[38;5;241m=\u001b[39m\u001b[38;5;28;01mTrue\u001b[39;00m)\n\u001b[1;32m     12\u001b[0m     \u001b[38;5;66;03m# Call the function and display the plot and stats\u001b[39;00m\n\u001b[1;32m     13\u001b[0m     stats \u001b[38;5;241m=\u001b[39m analyze_outliers(dataframe, column_name)\n",
          "\u001b[0;31mAttributeError\u001b[0m: 'function' object has no attribute 'clear_output'"
         ]
        }
       ]
      }
     },
     "88ddf55f6742430b8bcb06254a518b7b": {
      "model_module": "@jupyter-widgets/base",
      "model_module_version": "2.0.0",
      "model_name": "LayoutModel",
      "state": {}
     },
     "8d9a70c6d6664583a9e005ce78d0c95e": {
      "model_module": "@jupyter-widgets/controls",
      "model_module_version": "2.0.0",
      "model_name": "DropdownModel",
      "state": {
       "_options_labels": [
        "id",
        "member_id",
        "loan_amount",
        "funded_amount",
        "funded_amnt_inv",
        "terms_in_months",
        "interest_rate",
        "installment",
        "grade",
        "sub_grade",
        "emp_title",
        "emp_length",
        "home_ownership",
        "annual_income",
        "verification_status",
        "issue_d",
        "loan_status",
        "pymnt_plan",
        "url",
        "desc",
        "purpose",
        "title",
        "zip_code",
        "addr_state",
        "dti",
        "delinq_2yrs",
        "earliest_cr_line",
        "inq_last_6mths",
        "open_acc",
        "pub_rec",
        "revol_bal",
        "revol_util",
        "total_acc",
        "initial_list_status",
        "out_prncp",
        "out_prncp_inv",
        "total_payment",
        "total_pymnt_inv",
        "total_rec_prncp",
        "total_rec_int",
        "total_rec_late_fee",
        "recoveries",
        "collection_recovery_fee",
        "last_pymnt_d",
        "last_pymnt_amnt",
        "last_credit_pull_d",
        "collections_12_mths_ex_med",
        "policy_code",
        "application_type",
        "acc_now_delinq",
        "chargeoff_within_12_mths",
        "delinq_amnt",
        "pub_rec_bankruptcies",
        "tax_liens"
       ],
       "description": "Select Column:",
       "index": 0,
       "layout": "IPY_MODEL_a73982a3fc3c4dd5afa80e7da7d13259",
       "style": "IPY_MODEL_1c7da0c7856b4e8a8ef772513587f861"
      }
     },
     "9a10b98969fa45ceb5363b2e133e2439": {
      "model_module": "@jupyter-widgets/controls",
      "model_module_version": "2.0.0",
      "model_name": "DescriptionStyleModel",
      "state": {
       "description_width": ""
      }
     },
     "9c520be846e245bbab13ecbaa26d2a83": {
      "model_module": "@jupyter-widgets/base",
      "model_module_version": "2.0.0",
      "model_name": "LayoutModel",
      "state": {}
     },
     "a033768f4e3e4a5ba08591f6a50c67ec": {
      "model_module": "@jupyter-widgets/controls",
      "model_module_version": "2.0.0",
      "model_name": "DescriptionStyleModel",
      "state": {
       "description_width": ""
      }
     },
     "a73982a3fc3c4dd5afa80e7da7d13259": {
      "model_module": "@jupyter-widgets/base",
      "model_module_version": "2.0.0",
      "model_name": "LayoutModel",
      "state": {}
     },
     "a9f77c4f691941d0b6dfe871dc121015": {
      "model_module": "@jupyter-widgets/base",
      "model_module_version": "2.0.0",
      "model_name": "LayoutModel",
      "state": {}
     },
     "aba3357ae56d4cc29830f2dd9da9607a": {
      "model_module": "@jupyter-widgets/output",
      "model_module_version": "1.0.0",
      "model_name": "OutputModel",
      "state": {
       "layout": "IPY_MODEL_45753442b5aa459bb28e686489e354e1"
      }
     },
     "b54f75af42e940e1b059f42ceb0a146d": {
      "model_module": "@jupyter-widgets/base",
      "model_module_version": "2.0.0",
      "model_name": "LayoutModel",
      "state": {}
     },
     "d4248c9471114afd8f028acf56a3378b": {
      "model_module": "@jupyter-widgets/controls",
      "model_module_version": "2.0.0",
      "model_name": "DropdownModel",
      "state": {
       "_options_labels": [
        "id",
        "member_id",
        "loan_amount",
        "funded_amount",
        "funded_amnt_inv",
        "terms_in_months",
        "interest_rate",
        "installment",
        "grade",
        "sub_grade",
        "emp_title",
        "emp_length",
        "home_ownership",
        "annual_income",
        "verification_status",
        "issue_d",
        "loan_status",
        "pymnt_plan",
        "url",
        "desc",
        "purpose",
        "title",
        "zip_code",
        "addr_state",
        "dti",
        "delinq_2yrs",
        "earliest_cr_line",
        "inq_last_6mths",
        "open_acc",
        "pub_rec",
        "revol_bal",
        "revol_util",
        "total_acc",
        "initial_list_status",
        "out_prncp",
        "out_prncp_inv",
        "total_payment",
        "total_pymnt_inv",
        "total_rec_prncp",
        "total_rec_int",
        "total_rec_late_fee",
        "recoveries",
        "collection_recovery_fee",
        "last_pymnt_d",
        "last_pymnt_amnt",
        "last_credit_pull_d",
        "collections_12_mths_ex_med",
        "policy_code",
        "application_type",
        "acc_now_delinq",
        "chargeoff_within_12_mths",
        "delinq_amnt",
        "pub_rec_bankruptcies",
        "tax_liens"
       ],
       "description": "Select Column:",
       "index": 0,
       "layout": "IPY_MODEL_a9f77c4f691941d0b6dfe871dc121015",
       "style": "IPY_MODEL_4397b7e373e64b0c8dd4c7f0af885862"
      }
     },
     "d849d788a0f149cfb99a48dbc6c9ce4f": {
      "model_module": "@jupyter-widgets/controls",
      "model_module_version": "2.0.0",
      "model_name": "DescriptionStyleModel",
      "state": {
       "description_width": ""
      }
     },
     "ddf1ec3713fb4dfda7733e609771eedb": {
      "model_module": "@jupyter-widgets/output",
      "model_module_version": "1.0.0",
      "model_name": "OutputModel",
      "state": {
       "layout": "IPY_MODEL_07b9d5fb358645cfbcbad8c42cb051d8"
      }
     },
     "de512f53b2e44bb281fd2fc1fcf0f9c0": {
      "model_module": "@jupyter-widgets/output",
      "model_module_version": "1.0.0",
      "model_name": "OutputModel",
      "state": {
       "layout": "IPY_MODEL_52bd4b812c234101b43de1646ce055f1",
       "outputs": [
        {
         "data": {
          "image/png": "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",
          "text/plain": "<Figure size 1000x600 with 1 Axes>"
         },
         "metadata": {},
         "output_type": "display_data"
        }
       ]
      }
     },
     "e3c399e049c94768b39c9d1a2ea170b9": {
      "model_module": "@jupyter-widgets/controls",
      "model_module_version": "2.0.0",
      "model_name": "DropdownModel",
      "state": {
       "_options_labels": [
        "id",
        "member_id",
        "loan_amount",
        "funded_amount",
        "funded_amnt_inv",
        "terms_in_months",
        "interest_rate",
        "installment",
        "grade",
        "sub_grade",
        "emp_title",
        "emp_length",
        "home_ownership",
        "annual_income",
        "verification_status",
        "issue_d",
        "loan_status",
        "pymnt_plan",
        "url",
        "desc",
        "purpose",
        "title",
        "zip_code",
        "addr_state",
        "dti",
        "delinq_2yrs",
        "earliest_cr_line",
        "inq_last_6mths",
        "open_acc",
        "pub_rec",
        "revol_bal",
        "revol_util",
        "total_acc",
        "initial_list_status",
        "out_prncp",
        "out_prncp_inv",
        "total_payment",
        "total_pymnt_inv",
        "total_rec_prncp",
        "total_rec_int",
        "total_rec_late_fee",
        "recoveries",
        "collection_recovery_fee",
        "last_pymnt_d",
        "last_pymnt_amnt",
        "last_credit_pull_d",
        "collections_12_mths_ex_med",
        "policy_code",
        "application_type",
        "acc_now_delinq",
        "chargeoff_within_12_mths",
        "delinq_amnt",
        "pub_rec_bankruptcies",
        "tax_liens"
       ],
       "description": "Select Column:",
       "index": 0,
       "layout": "IPY_MODEL_eccf324401ed45b69ef80de067863d79",
       "style": "IPY_MODEL_a033768f4e3e4a5ba08591f6a50c67ec"
      }
     },
     "e7c49cd46f3049399933159619c8bab0": {
      "model_module": "@jupyter-widgets/base",
      "model_module_version": "2.0.0",
      "model_name": "LayoutModel",
      "state": {}
     },
     "eccf324401ed45b69ef80de067863d79": {
      "model_module": "@jupyter-widgets/base",
      "model_module_version": "2.0.0",
      "model_name": "LayoutModel",
      "state": {}
     },
     "f39fe49c8da54193bc2c7b18a1347f4e": {
      "model_module": "@jupyter-widgets/controls",
      "model_module_version": "2.0.0",
      "model_name": "DescriptionStyleModel",
      "state": {
       "description_width": ""
      }
     },
     "f4f510cd70ec470d941e6ed4a9206a38": {
      "model_module": "@jupyter-widgets/output",
      "model_module_version": "1.0.0",
      "model_name": "OutputModel",
      "state": {
       "layout": "IPY_MODEL_9c520be846e245bbab13ecbaa26d2a83"
      }
     },
     "ff5cb6f2bf0a4066aad51053d799281d": {
      "model_module": "@jupyter-widgets/controls",
      "model_module_version": "2.0.0",
      "model_name": "VBoxModel",
      "state": {
       "_dom_classes": [
        "widget-interact"
       ],
       "children": [
        "IPY_MODEL_7b9e874f799645ec8b7c459031d71876",
        "IPY_MODEL_f4f510cd70ec470d941e6ed4a9206a38"
       ],
       "layout": "IPY_MODEL_697ed0e5f8634a41990c7c58ac2b250a"
      }
     }
    },
    "version_major": 2,
    "version_minor": 0
   }
  }
 },
 "nbformat": 4,
 "nbformat_minor": 5
}
