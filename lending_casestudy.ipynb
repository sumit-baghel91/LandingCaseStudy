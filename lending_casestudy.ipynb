{
 "cells": [
  {
   "cell_type": "markdown",
   "id": "ca7c5c8b-a234-4c7e-9aa3-9e72831a47df",
   "metadata": {},
   "source": [
    "<h1><center>Lending Club EDA</center></h1>"
   ]
  },
  {
   "cell_type": "markdown",
   "id": "5bc41ca8-ed40-44cd-bf92-a0f5d961df22",
   "metadata": {},
   "source": [
    "<h2><center>Introduction</center></h2>\n",
    "\n",
    "\n",
    "Lending Club is the world's largest peer-to-peer lending platform. They offer lending services by connecting borrowers with investors through an online marketplace. While this has become a popular source of passive income for investors, there is also a risk of default, in which the borrowers fall behind on their repayments. In this kernel, we will perform some explorations and feature analysis on the loan data provided by Lending Club to identify the potential risk factors associated with a loan default."
   ]
  },
  {
   "cell_type": "markdown",
   "id": "9bcaa849-fe6f-4f57-b724-403707903b79",
   "metadata": {},
   "source": [
    "<h2><center>Getting Started</center></h2>\n",
    "\n",
    "Lets import all the required libraries and take a look at the data"
   ]
  },
  {
   "cell_type": "code",
   "execution_count": null,
   "id": "5359c3f6-8a77-4bc0-bd5e-f07c81627dcc",
   "metadata": {},
   "outputs": [],
   "source": [
    "# Importing all libraries required.\n",
    "import numpy as np\n",
    "import pandas as pd\n",
    "import matplotlib.pyplot as plt\n",
    "import seaborn as sns\n",
    "\n",
    "# Ignore warnings due to version problems\n",
    "import warnings\n",
    "warnings.filterwarnings('ignore')"
   ]
  },
  {
   "cell_type": "code",
   "execution_count": null,
   "id": "a0ea3a93-ad64-41fe-8bdf-4b9fe9568d9e",
   "metadata": {},
   "outputs": [],
   "source": [
    "# Read CSV file and check and load the data set for further analysis \n",
    "loan = pd.read_csv('loan.csv')\n",
    "loan.head()"
   ]
  },
  {
   "cell_type": "markdown",
   "id": "f28233d1-b79d-4c1c-aa3a-13c0ec9b4ddb",
   "metadata": {},
   "source": [
    "## Observation from the first 5 rows\n",
    "\n",
    "1. There are 111 colums and not all columns are visible\n",
    "2. We can see that there are many missing values and we need to handle them\n",
    "3. Not all rows might be required for our analysis and we might drop a few columns\n",
    "4. There are some additional data like('%', 'months'...) added to the rows, we need to clean the data and also if required create derivative columns"
   ]
  },
  {
   "cell_type": "markdown",
   "id": "fccd584e-8c58-4ff2-8d5a-3d1df76eb4e8",
   "metadata": {},
   "source": [
    "### Lets look at all the columns and shape of the dataset before dropping rows/columns"
   ]
  },
  {
   "cell_type": "code",
   "execution_count": null,
   "id": "1a2933cf-bc3c-4983-9469-898c6b1f52a7",
   "metadata": {},
   "outputs": [],
   "source": [
    "# shape of dataset\n",
    "loan.shape"
   ]
  },
  {
   "cell_type": "code",
   "execution_count": null,
   "id": "bf7c36b6-e9b6-44e8-89de-fb958ce6e9b6",
   "metadata": {},
   "outputs": [],
   "source": [
    "#so we have total 39717 entries of loan and 111 coloumns defining the details of a particular loan \n",
    "# Lets check the info about the dataframe we will also print all the coloumns to check there dtypes \n",
    "#and see if we need to change any coloumns dtype\n",
    "loan.info(verbose=True)"
   ]
  },
  {
   "cell_type": "code",
   "execution_count": null,
   "id": "7195f6ed-d6f3-45bf-a5f0-47091caafc93",
   "metadata": {},
   "outputs": [],
   "source": [
    "loan['issue_d']"
   ]
  },
  {
   "cell_type": "code",
   "execution_count": null,
   "id": "7a666f0e-586e-4537-b1e3-c3bd10497ceb",
   "metadata": {},
   "outputs": [],
   "source": [
    "# There are some columns with not so relevant column names which are useful in better understanding.\n",
    "loan = loan.rename(columns = {'loan_amnt' : 'loan_amount', 'funded_amnt' : 'funded_amount', 'int_rate' : 'interest_rate', 'annual_inc' : 'annual_income', 'total_pymnt' : 'total_payment'})"
   ]
  },
  {
   "cell_type": "markdown",
   "id": "88124e57-ee9a-425a-a58d-bd045c85f168",
   "metadata": {},
   "source": [
    "<h2><center>Lets clean the dataset</center></h2>"
   ]
  },
  {
   "cell_type": "markdown",
   "id": "ee6fe594-19fe-4c6f-90a5-0a368813c9dc",
   "metadata": {},
   "source": [
    "### Remove additional values"
   ]
  },
  {
   "cell_type": "code",
   "execution_count": null,
   "id": "68032647-03b8-458f-b668-b2c1f6a6d4b7",
   "metadata": {},
   "outputs": [],
   "source": [
    "# remove 'months' from terms column, convert it to integer and rename the column to terms_in_months\n",
    "loan['term'] = loan['term'].str.replace(' months', '').astype(int)\n",
    "\n",
    "# rename the column\n",
    "loan.rename(columns={'term': 'terms_in_months'}, inplace=True)"
   ]
  },
  {
   "cell_type": "code",
   "execution_count": null,
   "id": "ffc0084f-c68d-42a6-8bed-196d2d22f53e",
   "metadata": {},
   "outputs": [],
   "source": [
    "# same goes for interest_rate column\n",
    "loan['interest_rate'] = loan['interest_rate'].str.replace('%', '').astype(float)"
   ]
  },
  {
   "cell_type": "markdown",
   "id": "54f6e833-c724-4795-ab97-91510e95ed97",
   "metadata": {},
   "source": [
    "## Identify and handle missing values"
   ]
  },
  {
   "cell_type": "markdown",
   "id": "31f8d7de-36a7-40e5-aeec-c8eb4d27944a",
   "metadata": {},
   "source": [
    "### Check and remove any duplicate Row"
   ]
  },
  {
   "cell_type": "code",
   "execution_count": null,
   "id": "02d8b0b2-e31b-4fc3-a9ca-e02ed0c23ac5",
   "metadata": {},
   "outputs": [],
   "source": [
    "loan.duplicated().sum()"
   ]
  },
  {
   "cell_type": "markdown",
   "id": "93df8978-5128-4061-9e6f-8e656f0990f8",
   "metadata": {},
   "source": [
    "Looks like there are no duplicates"
   ]
  },
  {
   "cell_type": "markdown",
   "id": "f012db76-0946-4673-9e48-5e69bb753828",
   "metadata": {},
   "source": [
    "### Check for missing values"
   ]
  },
  {
   "cell_type": "code",
   "execution_count": null,
   "id": "e32f1da6-1dfe-4e51-8aa6-7011a00feb06",
   "metadata": {},
   "outputs": [],
   "source": [
    "loan.isnull().sum()"
   ]
  },
  {
   "cell_type": "markdown",
   "id": "4cdcffcc-246d-4619-94c6-2a38a480ddb5",
   "metadata": {},
   "source": [
    "### Observation\n",
    "\n",
    "1. Some of the columns have all the null values and looks like these coluns might not be needed"
   ]
  },
  {
   "cell_type": "code",
   "execution_count": null,
   "id": "d388e388-32f4-4441-aba9-8e8ebe5c2c4a",
   "metadata": {},
   "outputs": [],
   "source": [
    "#calculate the percentage of null values in a columns and print the column have percentage more then 60 \n",
    "# as null values can impact the data analysis\n",
    "nullValuePercentage= round((loan.isnull().sum()/len(loan))*100,2)\n",
    "nullValuePercentage[nullValuePercentage>60].sort_values(ascending=False)"
   ]
  },
  {
   "cell_type": "markdown",
   "id": "c9583b82-0332-464d-9362-ca5d4cbce46c",
   "metadata": {},
   "source": [
    "1. From the above we see that there are quite a few columns which are completely null and these might not add any additional insights.\n",
    "2. Lets drop these columns and also drop the columns and also drop columns where null value percentage is greater than 60"
   ]
  },
  {
   "cell_type": "code",
   "execution_count": null,
   "id": "8ea5fc74-c3ab-425f-9479-a2b7e1bfd56a",
   "metadata": {},
   "outputs": [],
   "source": [
    "#removing the columns having more than 60% of null value\n",
    "loan = loan.loc[:,(loan.isnull().sum()/len(loan)*100)<60]\n",
    "\n",
    "loan.shape"
   ]
  },
  {
   "cell_type": "markdown",
   "id": "ccc26509-c570-4075-82b0-ffeb6cfe6994",
   "metadata": {},
   "source": [
    "Looks like almost half of the columns have been dropped which contains null values greater than 60 percent\n",
    "\n",
    "Lets further analyse the column and check their importance and decide if they are useful for our analysis else drop those columns"
   ]
  },
  {
   "cell_type": "code",
   "execution_count": null,
   "id": "3b3ea4b1-c125-4513-b7f1-6608303da578",
   "metadata": {},
   "outputs": [],
   "source": [
    "# again check the percentage of null value in the coloumns \n",
    "print(round((loan.isnull().sum()/len(loan))*100,2).sort_values(ascending=False))"
   ]
  },
  {
   "cell_type": "code",
   "execution_count": null,
   "id": "9a2a6a72-c7cd-494e-86a8-17528eb2bbb1",
   "metadata": {},
   "outputs": [],
   "source": [
    "# # There are few more columns which doesnt add any value like the last 3 digits of a zip_code, description and Title are very similar, id, member_id, url .... Lets drop these columns\n",
    "# loan.drop( ['id', 'member_id', 'emp_title', 'collection_recovery_fee','url', 'desc',\n",
    "#             'title','zip_code','inq_last_6mths','collection_recovery_fee',\n",
    "#             'recoveries','tax_liens','total_rec_late_fee','policy_code','last_pymnt_d',\n",
    "#             'earliest_cr_line','total_rec_int','total_rec_prncp','delinq_2yrs', 'open_acc', 'pub_rec', 'total_acc', 'last_pymnt_amnt','total_pymnt_inv','total_pymnt', 'chargeoff_within_12_mths','collections_12_mths_ex_med','revol_util','revol_bal','last_credit_pull_d'],axis=1,inplace=True)"
   ]
  },
  {
   "cell_type": "code",
   "execution_count": null,
   "id": "f0b0c5b7-a175-4552-9568-c0978e71b0ca",
   "metadata": {},
   "outputs": [],
   "source": [
    "def analyze_outliers(dataframe, column_name):\n",
    "    \"\"\"\n",
    "    Generates a boxplot for the specified column and displays statistical details.\n",
    "    \n",
    "    Parameters:\n",
    "    - dataframe (pd.DataFrame): The DataFrame containing the data.\n",
    "    - column_name (str): The name of the column to analyze.\n",
    "\n",
    "    Returns:\n",
    "    - None; outputs a boxplot and prints statistical details of the column.\n",
    "    \"\"\"\n",
    "    if column_name in dataframe.columns:\n",
    "        # Generate boxplot\n",
    "        plt.figure(figsize=(10, 6))\n",
    "        sns.boxplot(x=dataframe[column_name])\n",
    "        plt.title(f'Boxplot for {column_name}')\n",
    "        plt.grid(True)\n",
    "        plt.show()\n",
    "\n",
    "        # Calculate and display statistics\n",
    "        stats = dataframe[column_name].describe()\n",
    "        additional_stats = pd.Series({\n",
    "            'mean': dataframe[column_name].mean(),\n",
    "            'std_dev': dataframe[column_name].std(),\n",
    "            'variance': dataframe[column_name].var()\n",
    "        })\n",
    "        \n",
    "        # Using concat to combine the statistics\n",
    "        all_stats = pd.concat([stats, additional_stats])\n",
    "        print(\"\\nStatistical Details:\")\n",
    "        print(all_stats)\n",
    "    else:\n",
    "        print(\"Column name provided does not exist in the dataframe.\")"
   ]
  },
  {
   "cell_type": "code",
   "execution_count": null,
   "id": "0b3f3e80-920f-4230-ba8b-d23eba068655",
   "metadata": {},
   "outputs": [],
   "source": [
    "analyze_outliers(loan, 'loan_amount')"
   ]
  },
  {
   "cell_type": "code",
   "execution_count": null,
   "id": "6b8f8623-fa2a-4c11-99a9-9b59c43fa7f9",
   "metadata": {},
   "outputs": [],
   "source": [
    "def analyze_outliers(dataframe, column_name):\n",
    "    if column_name in dataframe.columns:\n",
    "        # Create a boxplot to visualize outliers\n",
    "        fig, ax = plt.subplots(figsize=(10, 6))\n",
    "        sns.boxplot(x=dataframe[column_name], ax=ax)\n",
    "        plt.grid(True)\n",
    "        plt.title(f'Boxplot for {column_name}')\n",
    "        plt.show()\n",
    "\n",
    "        # Compute basic statistics\n",
    "        stats = dataframe[column_name].describe()\n",
    "\n",
    "        # Compute additional statistics\n",
    "        additional_stats = pd.Series({\n",
    "            'mean': dataframe[column_name].mean(),\n",
    "            'std_dev': dataframe[column_name].std(),\n",
    "            'variance': dataframe[column_name].var()\n",
    "        })\n",
    "\n",
    "        # Combine all statistics\n",
    "        all_stats = pd.concat([stats, additional_stats])\n",
    "\n",
    "        # Format all statistics for human-readable output\n",
    "        readable_stats = {key: f\"{value:,.2f}\" for key, value in all_stats.items()}\n",
    "\n",
    "        # Print the formatted statistics\n",
    "        print(\"\\nStatistical Details:\")\n",
    "        for key, value in readable_stats.items():\n",
    "            print(f\"{key.capitalize()}: {value}\")\n",
    "\n",
    "    else:\n",
    "        print(\"Column name provided does not exist in the dataframe.\")"
   ]
  },
  {
   "cell_type": "code",
   "execution_count": null,
   "id": "56ef975e-b9a4-4328-9847-89e6603fcebb",
   "metadata": {},
   "outputs": [],
   "source": [
    "analyze_outliers(loan, 'loan_amount')"
   ]
  },
  {
   "cell_type": "markdown",
   "id": "12b672c9-b3a1-4081-878e-6b88a0f8729b",
   "metadata": {},
   "source": [
    "## Observations:\n",
    "\n",
    "1. There are few points which lie outside of the IQR but these look like continous values and wide range."
   ]
  },
  {
   "cell_type": "code",
   "execution_count": null,
   "id": "49aa66f4-16b0-49b9-9f5f-bd4bbd3d28d0",
   "metadata": {},
   "outputs": [],
   "source": [
    "analyze_outliers(loan, 'annual_income')"
   ]
  },
  {
   "cell_type": "markdown",
   "id": "dbd01d83-44a2-4083-acb4-38ce7ddc7510",
   "metadata": {},
   "source": [
    "## Observations:\n",
    "\n",
    "1. From the above graph, you can see there are few points which are extreme right and far away from the IQR range.\n",
    "2. To have meaningful insights, we will go ahead and drop the data points which are greater than 95 percentile as these points are considerd outliers.\n",
    "3. Lets remove the outliers are then plot the box again"
   ]
  },
  {
   "cell_type": "code",
   "execution_count": null,
   "id": "5f45aff4-b769-4ac3-b339-e47c240655cb",
   "metadata": {},
   "outputs": [],
   "source": [
    "# remove outliers and box plot again\n",
    "loan = loan[loan['annual_income'] < loan['annual_income'].quantile(0.95)]\n",
    "\n",
    "analyze_outliers(loan, 'annual_income')"
   ]
  },
  {
   "cell_type": "code",
   "execution_count": null,
   "id": "3b734659-8b8e-4328-8ff6-f1e0866645b0",
   "metadata": {},
   "outputs": [],
   "source": [
    "analyze_outliers(loan, 'installment')"
   ]
  },
  {
   "cell_type": "code",
   "execution_count": null,
   "id": "275fd86f-6faf-46e7-8cb9-bce026a9a980",
   "metadata": {},
   "outputs": [],
   "source": [
    "analyze_outliers(loan, 'interest_rate')"
   ]
  },
  {
   "cell_type": "code",
   "execution_count": null,
   "id": "ad47774e-37e0-466a-86c5-8769f806cf93",
   "metadata": {},
   "outputs": [],
   "source": [
    "# Binning the loan amounts into categories\n",
    "bins = [0, 5000, 10000, 15000, 20000, 25000, 30000, 35000]\n",
    "labels = ['0-5k', '5k-10k', '10k-15k', '15k-20k', '20k-25k', '25k-30k', '30k-35k']\n",
    "loan['loan_amount_binned'] = pd.cut(loan['loan_amount'], bins=bins, labels=labels, include_lowest=True)\n",
    "\n",
    "# Grouping by binned column and calculating mean interest rate\n",
    "grouped = loan.groupby('loan_amount_binned')['interest_rate'].mean().reset_index()\n",
    "\n",
    "# Show the plots\n",
    "plt.figure(figsize=(10, 6))\n",
    "sns.barplot(x='loan_amount_binned', y='interest_rate', data=grouped)\n",
    "plt.title('Average Interest Rate by Loan Amount Category')\n",
    "plt.xlabel('Loan Amount Category')\n",
    "plt.ylabel('Average Interest Rate (%)')\n",
    "plt.xticks(rotation=45)\n",
    "plt.show()"
   ]
  },
  {
   "cell_type": "markdown",
   "id": "7105dc68-b35c-4ae5-bfb0-ffc72c3de65e",
   "metadata": {},
   "source": [
    "## Observations:\n",
    "1. The loan amout is categorized into bins of 5000 intervals.\n",
    "2. We can see that the interest rate is directly proportional to the loan amount"
   ]
  },
  {
   "cell_type": "code",
   "execution_count": null,
   "id": "56390682-35cd-4ac6-84f9-f587244cd79a",
   "metadata": {},
   "outputs": [],
   "source": [
    "# Set up the matplotlib figure\n",
    "plt.figure(figsize=(12, 6))  # Increase figure size for better visibility of both plots\n",
    "\n",
    "# Create the first subplot for the boxplot\n",
    "plt.subplot(1, 2, 1)  # 1 row, 2 columns, first subplot\n",
    "sns.boxplot(x='grade', y='interest_rate', data=loan, order=sorted(loan['grade'].unique()))\n",
    "plt.title('Interest Rate Distribution by Loan Grade')\n",
    "plt.xlabel('Loan Grade')\n",
    "plt.ylabel('Interest Rate (%)')\n",
    "\n",
    "# Create the second subplot for the violin plot\n",
    "plt.subplot(1, 2, 2)  # 1 row, 2 columns, second subplot\n",
    "sns.violinplot(x='grade', y='interest_rate', data=loan, order=sorted(loan['grade'].unique()))\n",
    "plt.title('Interest Rate Density and Distribution by Loan Grade')\n",
    "plt.xlabel('Loan Grade')\n",
    "plt.ylabel('Interest Rate (%)')\n",
    "\n",
    "# Show the plots\n",
    "plt.tight_layout()\n",
    "plt.show()"
   ]
  },
  {
   "cell_type": "markdown",
   "id": "258957bf-3a6a-4ca7-a99d-aba6a7047d3b",
   "metadata": {},
   "source": [
    "## Observations:\n",
    "1. There is a clear trend upward in interest rates as the loan grades progress from A to G\n",
    "2. The lower grades have close IQR (A, B, C) than compared to other grades\n",
    "3. The spread of violin plots in lower grades indicate that the variations are less and also there are more outliers present in higher grades"
   ]
  },
  {
   "cell_type": "code",
   "execution_count": null,
   "id": "9dd85a07-d86c-4b71-ac63-f4761d6aa9a4",
   "metadata": {},
   "outputs": [],
   "source": [
    "import matplotlib.pyplot as plt\n",
    "\n",
    "# Set up the matplotlib figure\n",
    "plt.figure(figsize=(12, 5))\n",
    "\n",
    "# First subplot for annual income\n",
    "plt.subplot(1, 2, 1)  # 1 row, 2 columns, first subplot\n",
    "plt.hist(loan['annual_income'], bins=50, color='blue', alpha=0.7)\n",
    "plt.title('Distribution of Annual Income')\n",
    "plt.xlabel('Annual Income ($)')\n",
    "plt.ylabel('Frequency')\n",
    "\n",
    "# Second subplot for loan amount\n",
    "plt.subplot(1, 2, 2)  # 1 row, 2 columns, second subplot\n",
    "plt.hist(loan['loan_amount'], bins=50, color='green', alpha=0.7)\n",
    "plt.title('Distribution of Loan Amount')\n",
    "plt.xlabel('Loan Amount ($)')\n",
    "plt.ylabel('Frequency')\n",
    "\n",
    "# Show the plots\n",
    "plt.tight_layout()  # Adjusts subplot params so that subplots are nicely fit in the figure area.\n",
    "plt.show()\n"
   ]
  },
  {
   "cell_type": "markdown",
   "id": "1d6338dc-69de-4eb8-bb50-162884e9dedf",
   "metadata": {},
   "source": [
    "## Observations:\n",
    "1. There is no definite trend with the annual income and the frequency of loan amount."
   ]
  },
  {
   "cell_type": "code",
   "execution_count": null,
   "id": "c01f7ad5-2c24-4338-9316-ad07ad886ac5",
   "metadata": {},
   "outputs": [],
   "source": [
    "fig, axes = plt.subplots(1, 3, figsize=(18, 6))  # Adjust layout and size as needed\n",
    "home_ownerships = loan['home_ownership'].unique()\n",
    "for ax, home_ownership in zip(axes, home_ownerships):\n",
    "    subset = loan[loan['home_ownership'] == home_ownership]\n",
    "    counts = subset['loan_status'].value_counts()\n",
    "    ax.pie(counts, labels=counts.index, autopct='%1.1f%%', startangle=90)\n",
    "    ax.set_title(f'Loan Status for {home_ownership}')\n",
    "plt.show()"
   ]
  },
  {
   "cell_type": "markdown",
   "id": "593874aa-234e-4bc9-b806-8faff5e040a9",
   "metadata": {},
   "source": [
    "## Observations\n",
    "1. The majority of loans across all home ownerships are fully paid. Only a small portion of loans is still ongoing.\n",
    "2. There is no significant difference in the percentages of fully paid, charged-off and current across all the status."
   ]
  },
  {
   "cell_type": "code",
   "execution_count": null,
   "id": "a3a1d1f2-0f6e-4bc9-adc5-d1d8d2d9ba27",
   "metadata": {},
   "outputs": [],
   "source": [
    "plt.figure(figsize=(10, 6))\n",
    "sns.boxplot(x='loan_status', y='dti', data=loan)\n",
    "plt.title('DTI Ratios by Loan Status')\n",
    "plt.xlabel('Loan Status')\n",
    "plt.ylabel('Debt-to-Income Ratio (DTI)')\n",
    "plt.xticks(rotation=45)\n",
    "plt.show()"
   ]
  },
  {
   "cell_type": "code",
   "execution_count": null,
   "id": "a6e3cf76-cb8d-4c57-ad04-8f71a56cdc9c",
   "metadata": {},
   "outputs": [],
   "source": [
    "import pandas as pd\n",
    "\n",
    "# Encoding loan status as numeric\n",
    "loan['status_numeric'] = loan['loan_status'].map({'Fully Paid': 0, 'Current': 0, 'Charged Off': 1, 'Default': 1})\n",
    "\n",
    "# Calculating the correlation\n",
    "correlation = loan[['dti', 'status_numeric']].corr().iloc[0, 1]\n",
    "print(f\"Correlation coefficient between DTI and Default Rate: {correlation:.3f}\")\n"
   ]
  },
  {
   "cell_type": "markdown",
   "id": "7b93d4df-8e21-4015-8900-ef27e46c56f0",
   "metadata": {},
   "source": [
    "## Observations\n",
    "1. The median is almost same for all the three types with slightly upward trend for current type.\n",
    "2. The IQR is also same for the three types with `charged off` having slightly higher variance.\n",
    "3. The coorelation coeffienct explain the weaker relation between DTI to loan status"
   ]
  },
  {
   "cell_type": "code",
   "execution_count": null,
   "id": "048f40c7-5072-4673-a21b-a4e652efd27a",
   "metadata": {},
   "outputs": [],
   "source": [
    "loan['emp_length'] = loan['emp_length'].astype(str)  # Convert all to string\n",
    "loan['emp_length'] = loan['emp_length'].replace('nan', 'Not Specified')  # Replace NaN values if any\n",
    "\n",
    "# Custom sort order, assuming 'emp_length' includes categories like '10+ years', '< 1 year', etc.\n",
    "order = ['< 1 year', '1 year', '2 years', '3 years', '4 years', '5 years', '6 years', '7 years', '8 years', '9 years', '10+ years', 'Not Specified']\n",
    "\n",
    "# Show the plots\n",
    "plt.figure(figsize=(10, 6))\n",
    "sns.countplot(x='emp_length', hue='loan_status', data=loan, order=order)\n",
    "plt.title('Loan Status Distribution by Employment Length')\n",
    "plt.xlabel('Employment Length')\n",
    "plt.ylabel('Count of Loans')\n",
    "plt.xticks(rotation=45)\n",
    "plt.show()"
   ]
  },
  {
   "cell_type": "markdown",
   "id": "763e94c2-d306-4b57-befc-d7895dd4f2c9",
   "metadata": {},
   "source": [
    "## Observations:\n",
    "1. Fully paid status is high across all the employment types.\n",
    "2. The charged off staus doesnt significantly corelate with the employment length\n",
    "3. There is relatively high current status in 10+ years of employment length"
   ]
  },
  {
   "cell_type": "code",
   "execution_count": null,
   "id": "15a72adc-f2ca-4aee-aa58-cd0cfc53d376",
   "metadata": {},
   "outputs": [],
   "source": [
    "top_titles = loan['emp_title'].value_counts().nlargest(10).index  # top 10 titles\n",
    "filtered_data = loan[loan['emp_title'].isin(top_titles)]\n",
    "avg_loan_amounts = filtered_data.groupby('emp_title')['loan_amount'].mean().sort_values()\n",
    "\n",
    "# Show the plots\n",
    "plt.figure(figsize=(10, 6))\n",
    "sns.barplot(x=avg_loan_amounts.values, y=avg_loan_amounts.index)\n",
    "plt.xlabel('Average Loan Amount ($)')\n",
    "plt.ylabel('Employment Title')\n",
    "plt.title('Average Loan Amount by Employment Title for Top 10 Titles')\n",
    "plt.show()"
   ]
  },
  {
   "cell_type": "code",
   "execution_count": null,
   "id": "d196e482-63e4-41bb-a95e-cad7c96b296f",
   "metadata": {},
   "outputs": [],
   "source": [
    "# Creating a cross-tabulation of loan status by top employment titles\n",
    "status_distribution = pd.crosstab(filtered_data['emp_title'], filtered_data['loan_status'])\n",
    "\n",
    "# Normalizing the data by rows to get proportions\n",
    "status_distribution = status_distribution.div(status_distribution.sum(axis=1), axis=0)\n",
    "\n",
    "# Show the plots\n",
    "status_distribution.plot(kind='barh', stacked=True, figsize=(10, 8))\n",
    "plt.title('Loan Status Distribution Across Top Employment Titles')\n",
    "plt.xlabel('Proportion of Loan Statuses')\n",
    "plt.ylabel('Employment Title')\n",
    "plt.legend(title='Loan Status')\n",
    "plt.show()"
   ]
  },
  {
   "cell_type": "code",
   "execution_count": null,
   "id": "4fda6854-d6e4-41e6-be61-4fc2bf86b351",
   "metadata": {},
   "outputs": [],
   "source": [
    "avg_interest_rates = filtered_data.groupby('emp_title')['interest_rate'].mean().sort_values()\n",
    "\n",
    "# Show the plots\n",
    "plt.figure(figsize=(10, 6))\n",
    "sns.barplot(x=avg_interest_rates.values, y=avg_interest_rates.index)\n",
    "plt.xlabel('Average Interest Rate (%)')\n",
    "plt.ylabel('Employment Title')\n",
    "plt.title('Average Interest Rate by Employment Title for Top 10 Titles')\n",
    "plt.show()"
   ]
  },
  {
   "cell_type": "code",
   "execution_count": null,
   "id": "3f4f925e-7a19-4d7b-8e84-7c13e962afca",
   "metadata": {},
   "outputs": [],
   "source": [
    "fig, axes = plt.subplots(nrows=3, ncols=1, figsize=(10, 10))\n",
    "\n",
    "# First subplot: Average Loan Amounts\n",
    "avg_loan_amounts = filtered_data.groupby('emp_title')['loan_amount'].mean().sort_values()\n",
    "sns.barplot(x=avg_loan_amounts.values, y=avg_loan_amounts.index, ax=axes[0])\n",
    "axes[0].set_title('Average Loan Amount by Employment Title for Top 10 Titles')\n",
    "axes[0].set_xlabel('Average Loan Amount ($)')\n",
    "axes[0].set_ylabel('Employment Title')\n",
    "\n",
    "# Second subplot: Loan Status Distribution\n",
    "status_distribution = pd.crosstab(filtered_data['emp_title'], filtered_data['loan_status'])\n",
    "status_distribution = status_distribution.div(status_distribution.sum(axis=1), axis=0)\n",
    "status_distribution.plot(kind='barh', stacked=True, ax=axes[1])\n",
    "axes[1].set_title('Loan Status Distribution Across Top Employment Titles')\n",
    "axes[1].set_xlabel('Proportion of Loan Statuses')\n",
    "axes[1].set_ylabel('Employment Title')\n",
    "\n",
    "# Third subplot: Average Interest Rates\n",
    "avg_interest_rates = filtered_data.groupby('emp_title')['interest_rate'].mean().sort_values()\n",
    "sns.barplot(x=avg_interest_rates.values, y=avg_interest_rates.index, ax=axes[2])\n",
    "axes[2].set_title('Average Interest Rate by Employment Title for Top 10 Titles')\n",
    "axes[2].set_xlabel('Average Interest Rate (%)')\n",
    "axes[2].set_ylabel('Employment Title')\n",
    "\n",
    "# Show the plots\n",
    "plt.tight_layout()\n",
    "plt.show()\n"
   ]
  },
  {
   "cell_type": "markdown",
   "id": "3390d22e-a1f2-4a7d-bf14-9976ff302602",
   "metadata": {},
   "source": [
    "## Observation:\n",
    "1. Certain orgs like UPS, USAF appear to higher average loan amounts than other orgs\n",
    "2. Few orgs like Walmart, UPS, Bank of America and At&t show a noticable amount of loans charged off. This might indicate that private companies tend to charge off their employee loans.\n",
    "3. The interest rates show significant difference across the orgs altought US Army has higesht interest rate"
   ]
  },
  {
   "cell_type": "code",
   "execution_count": null,
   "id": "d3bf6ccb-7960-4bd9-be50-b105fbbc5620",
   "metadata": {},
   "outputs": [],
   "source": [
    "# Group by state and calculate average loan amount and interest rate\n",
    "state_loan_data = loan.groupby('addr_state').agg({\n",
    "    'loan_amount': 'mean',\n",
    "    'interest_rate': 'mean'\n",
    "}).reset_index()\n",
    "\n",
    "# Show the plots\n",
    "fig, ax1 = plt.subplots(figsize=(15, 7))\n",
    "sns.barplot(x='addr_state', y='loan_amount', data=state_loan_data, ax=ax1, color='blue', alpha=0.6)\n",
    "ax1.set_ylabel('Average Loan Amount ($)', color='blue')\n",
    "ax2 = ax1.twinx()\n",
    "sns.lineplot(x='addr_state', y='interest_rate', data=state_loan_data, ax=ax2, color='red', marker='o')\n",
    "ax2.set_ylabel('Average Interest Rate (%)', color='red')\n",
    "ax1.set_xlabel('State')\n",
    "plt.title('Average Loan Amount and Interest Rate by State')\n",
    "plt.xticks(rotation=45)\n",
    "plt.show()"
   ]
  },
  {
   "cell_type": "code",
   "execution_count": null,
   "id": "7fc41923-ecc5-48a2-a5a2-5098df393500",
   "metadata": {},
   "outputs": [],
   "source": [
    "# Define default as Charged Off or Default loan status\n",
    "loan['is_default'] = loan['loan_status'].apply(lambda x: 1 if x in ['Charged Off', 'Default'] else 0)\n",
    "\n",
    "# Group by state and calculate default rate\n",
    "default_rates = loan.groupby('addr_state')['is_default'].mean().reset_index()\n",
    "\n",
    "# Show the plots\n",
    "plt.figure(figsize=(15, 7))\n",
    "sns.barplot(x='addr_state', y='is_default', data=default_rates)\n",
    "plt.ylabel('Default Rate')\n",
    "plt.xlabel('State')\n",
    "plt.title('Loan Default Rates by State')\n",
    "plt.xticks(rotation=45)\n",
    "plt.show()"
   ]
  },
  {
   "cell_type": "code",
   "execution_count": null,
   "id": "e7d01a3d-1427-4bd9-893f-e528ad59d9f8",
   "metadata": {},
   "outputs": [],
   "source": [
    "# Categorizing loans\n",
    "loan['loan_outcome'] = loan['loan_status'].apply(lambda x: 'Good' if x in ['Fully Paid', 'Current'] else 'Bad')\n",
    "\n",
    "# Count the occurrences of each loan outcome\n",
    "loan_outcome_counts = loan['loan_outcome'].value_counts()\n",
    "\n",
    "# Show the plots\n",
    "plt.figure(figsize=(8, 8))\n",
    "plt.pie(loan_outcome_counts, labels=loan_outcome_counts.index, autopct='%1.1f%%', startangle=90, colors=['#66b3ff', '#ff9999'])\n",
    "plt.title('Distribution of Loan Outcomes')\n",
    "plt.show()"
   ]
  },
  {
   "cell_type": "code",
   "execution_count": null,
   "id": "423acab2-a3df-48db-8201-bb6b727b6d0b",
   "metadata": {},
   "outputs": [],
   "source": [
    "loan['issue_year'] = pd.to_datetime(loan['issue_d'], format='%b-%y', errors='coerce').dt.year\n",
    "loans_per_year = loan.groupby('issue_year').size()\n",
    "avg_loan_amount_per_year = loan.groupby('issue_year')['loan_amount'].mean()\n",
    "\n",
    "# Setup the figure and axes\n",
    "fig, axes = plt.subplots(nrows=1, ncols=2, figsize=(18, 6))  # Adjust size as needed for side by side presentation\n",
    "\n",
    "# First plot: Number of Loans Issued Per Year\n",
    "axes[0].bar(loans_per_year.index, loans_per_year.values, color='skyblue')\n",
    "axes[0].set_title('Number of Loans Issued Per Year', fontsize=16)\n",
    "axes[0].set_xlabel('Year', fontsize=14)\n",
    "axes[0].set_ylabel('Number of Loans', fontsize=14)\n",
    "\n",
    "# Second plot: Average Loan Amount Issued Per Year\n",
    "sns.barplot(x='issue_year', y='loan_amount', data=loan, ax=axes[1])\n",
    "axes[1].set_title('Average Loan Amount Issued Per Year', fontsize=16)\n",
    "axes[1].set_xlabel('Year', fontsize=14)\n",
    "axes[1].set_ylabel('Average Loan Amount ($)', fontsize=14)\n",
    "\n",
    "# Show the plots\n",
    "plt.tight_layout()\n",
    "plt.show()"
   ]
  },
  {
   "cell_type": "code",
   "execution_count": null,
   "id": "17618088-1ec1-41f3-b67d-7c0ca2e2f0bf",
   "metadata": {},
   "outputs": [],
   "source": []
  }
 ],
 "metadata": {
  "kernelspec": {
   "display_name": "Python 3 (ipykernel)",
   "language": "python",
   "name": "python3"
  },
  "language_info": {
   "codemirror_mode": {
    "name": "ipython",
    "version": 3
   },
   "file_extension": ".py",
   "mimetype": "text/x-python",
   "name": "python",
   "nbconvert_exporter": "python",
   "pygments_lexer": "ipython3",
   "version": "3.10.12"
  },
  "widgets": {
   "application/vnd.jupyter.widget-state+json": {
    "state": {},
    "version_major": 2,
    "version_minor": 0
   }
  }
 },
 "nbformat": 4,
 "nbformat_minor": 5
}
